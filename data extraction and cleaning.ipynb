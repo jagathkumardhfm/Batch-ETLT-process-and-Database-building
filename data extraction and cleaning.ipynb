{
 "cells": [
  {
   "attachments": {},
   "cell_type": "markdown",
   "id": "004e79bd",
   "metadata": {},
   "source": [
    "#### Importing necessary libraries for data cleaning and extraction"
   ]
  },
  {
   "cell_type": "code",
   "execution_count": 1,
   "id": "3e774427",
   "metadata": {
    "scrolled": true
   },
   "outputs": [],
   "source": [
    "import numpy as np\n",
    "import pandas as pd\n",
    "import re"
   ]
  },
  {
   "cell_type": "code",
   "execution_count": 3,
   "id": "803d1b3f",
   "metadata": {
    "scrolled": true
   },
   "outputs": [
    {
     "data": {
      "text/html": [
       "<div>\n",
       "<style scoped>\n",
       "    .dataframe tbody tr th:only-of-type {\n",
       "        vertical-align: middle;\n",
       "    }\n",
       "\n",
       "    .dataframe tbody tr th {\n",
       "        vertical-align: top;\n",
       "    }\n",
       "\n",
       "    .dataframe thead th {\n",
       "        text-align: right;\n",
       "    }\n",
       "</style>\n",
       "<table border=\"1\" class=\"dataframe\">\n",
       "  <thead>\n",
       "    <tr style=\"text-align: right;\">\n",
       "      <th></th>\n",
       "      <th>Brand</th>\n",
       "      <th>Model</th>\n",
       "      <th>Color</th>\n",
       "      <th>Memory</th>\n",
       "      <th>Storage</th>\n",
       "      <th>Rating</th>\n",
       "      <th>Selling Price</th>\n",
       "      <th>Original Price</th>\n",
       "      <th>Total_sales</th>\n",
       "    </tr>\n",
       "  </thead>\n",
       "  <tbody>\n",
       "    <tr>\n",
       "      <th>0</th>\n",
       "      <td>OPPO</td>\n",
       "      <td>A53</td>\n",
       "      <td>Moonlight Black</td>\n",
       "      <td>4 GB</td>\n",
       "      <td>64 GB</td>\n",
       "      <td>4.5</td>\n",
       "      <td>11990</td>\n",
       "      <td>15990</td>\n",
       "      <td>1563</td>\n",
       "    </tr>\n",
       "    <tr>\n",
       "      <th>1</th>\n",
       "      <td>OPPO</td>\n",
       "      <td>A53</td>\n",
       "      <td>Mint Cream</td>\n",
       "      <td>4 GB</td>\n",
       "      <td>64 GB</td>\n",
       "      <td>4.5</td>\n",
       "      <td>11990</td>\n",
       "      <td>15990</td>\n",
       "      <td>4909</td>\n",
       "    </tr>\n",
       "    <tr>\n",
       "      <th>2</th>\n",
       "      <td>OPPO</td>\n",
       "      <td>A53</td>\n",
       "      <td>Moonlight Black</td>\n",
       "      <td>6 GB</td>\n",
       "      <td>128 GB</td>\n",
       "      <td>4.3</td>\n",
       "      <td>13990</td>\n",
       "      <td>17990</td>\n",
       "      <td>701</td>\n",
       "    </tr>\n",
       "    <tr>\n",
       "      <th>3</th>\n",
       "      <td>OPPO</td>\n",
       "      <td>A53</td>\n",
       "      <td>Mint Cream</td>\n",
       "      <td>6 GB</td>\n",
       "      <td>128 GB</td>\n",
       "      <td>4.3</td>\n",
       "      <td>13990</td>\n",
       "      <td>17990</td>\n",
       "      <td>5241</td>\n",
       "    </tr>\n",
       "    <tr>\n",
       "      <th>4</th>\n",
       "      <td>OPPO</td>\n",
       "      <td>A53</td>\n",
       "      <td>Electric Black</td>\n",
       "      <td>4 GB</td>\n",
       "      <td>64 GB</td>\n",
       "      <td>4.5</td>\n",
       "      <td>11990</td>\n",
       "      <td>15990</td>\n",
       "      <td>8837</td>\n",
       "    </tr>\n",
       "  </tbody>\n",
       "</table>\n",
       "</div>"
      ],
      "text/plain": [
       "  Brand Model            Color Memory Storage  Rating  Selling Price  \\\n",
       "0  OPPO   A53  Moonlight Black   4 GB   64 GB     4.5          11990   \n",
       "1  OPPO   A53       Mint Cream   4 GB   64 GB     4.5          11990   \n",
       "2  OPPO   A53  Moonlight Black   6 GB  128 GB     4.3          13990   \n",
       "3  OPPO   A53       Mint Cream   6 GB  128 GB     4.3          13990   \n",
       "4  OPPO   A53   Electric Black   4 GB   64 GB     4.5          11990   \n",
       "\n",
       "   Original Price  Total_sales  \n",
       "0           15990         1563  \n",
       "1           15990         4909  \n",
       "2           17990          701  \n",
       "3           17990         5241  \n",
       "4           15990         8837  "
      ]
     },
     "execution_count": 3,
     "metadata": {},
     "output_type": "execute_result"
    }
   ],
   "source": [
    "data = pd.read_csv(\"C:\\\\Users\\\\kumar\\\\Downloads\\\\mobilephonedataset\\\\Flipkart_Mobiles_Dataset.csv\")\n",
    "data.head()"
   ]
  },
  {
   "cell_type": "code",
   "execution_count": 4,
   "id": "e91b3371",
   "metadata": {
    "scrolled": true
   },
   "outputs": [
    {
     "data": {
      "text/plain": [
       "Index(['brand', 'model', 'color', 'memory', 'storage', 'rating',\n",
       "       'selling_price', 'original_price', 'total_sales'],\n",
       "      dtype='object')"
      ]
     },
     "execution_count": 4,
     "metadata": {},
     "output_type": "execute_result"
    }
   ],
   "source": [
    "# Cleaning the headers by changing case and removing spaces\n",
    "def change_col():\n",
    "    new_col = []\n",
    "    for i in data.columns:\n",
    "        j= i.lower()\n",
    "        k= j.replace(\" \",\"_\")\n",
    "        new_col.append(k)\n",
    "    return new_col\n",
    "data.columns  = change_col()\n",
    "data.columns    "
   ]
  },
  {
   "cell_type": "code",
   "execution_count": 5,
   "id": "be866d33",
   "metadata": {
    "scrolled": true
   },
   "outputs": [
    {
     "data": {
      "text/plain": [
       "201"
      ]
     },
     "execution_count": 5,
     "metadata": {},
     "output_type": "execute_result"
    }
   ],
   "source": [
    "data.duplicated([\"brand\",\"model\",\"color\",\"memory\",\"storage\"]).sum()"
   ]
  },
  {
   "cell_type": "code",
   "execution_count": 6,
   "id": "77ac8dae",
   "metadata": {
    "scrolled": true
   },
   "outputs": [],
   "source": [
    "# Dropping duplicates\n",
    "data.drop_duplicates(subset=[\"brand\",\"model\",\"color\",\"memory\",\"storage\"],inplace=True)"
   ]
  },
  {
   "cell_type": "code",
   "execution_count": 7,
   "id": "09bb85c2",
   "metadata": {
    "scrolled": true
   },
   "outputs": [
    {
     "data": {
      "text/plain": [
       "((2913, 9), 26217)"
      ]
     },
     "execution_count": 7,
     "metadata": {},
     "output_type": "execute_result"
    }
   ],
   "source": [
    "data.shape  ,   data.size"
   ]
  },
  {
   "cell_type": "code",
   "execution_count": 8,
   "id": "9f7bdc3e",
   "metadata": {
    "scrolled": true
   },
   "outputs": [
    {
     "name": "stdout",
     "output_type": "stream",
     "text": [
      "<class 'pandas.core.frame.DataFrame'>\n",
      "Int64Index: 2913 entries, 0 to 3113\n",
      "Data columns (total 9 columns):\n",
      " #   Column          Non-Null Count  Dtype  \n",
      "---  ------          --------------  -----  \n",
      " 0   brand           2913 non-null   object \n",
      " 1   model           2913 non-null   object \n",
      " 2   color           2913 non-null   object \n",
      " 3   memory          2882 non-null   object \n",
      " 4   storage         2874 non-null   object \n",
      " 5   rating          2787 non-null   float64\n",
      " 6   selling_price   2913 non-null   int64  \n",
      " 7   original_price  2913 non-null   int64  \n",
      " 8   total_sales     2913 non-null   int64  \n",
      "dtypes: float64(1), int64(3), object(5)\n",
      "memory usage: 227.6+ KB\n"
     ]
    }
   ],
   "source": [
    "data.info()"
   ]
  },
  {
   "cell_type": "code",
   "execution_count": 9,
   "id": "4ca533c1",
   "metadata": {
    "scrolled": true
   },
   "outputs": [
    {
     "data": {
      "text/plain": [
       "brand               0\n",
       "model               0\n",
       "color               0\n",
       "memory             31\n",
       "storage            39\n",
       "rating            126\n",
       "selling_price       0\n",
       "original_price      0\n",
       "total_sales         0\n",
       "dtype: int64"
      ]
     },
     "execution_count": 9,
     "metadata": {},
     "output_type": "execute_result"
    }
   ],
   "source": [
    "data.isna().sum()"
   ]
  },
  {
   "cell_type": "code",
   "execution_count": 10,
   "id": "a34afeee",
   "metadata": {
    "scrolled": true
   },
   "outputs": [],
   "source": [
    "# Dropping NULL values\n",
    "data.dropna(how=\"any\",subset=[\"memory\",\"storage\",\"rating\"],inplace=True)"
   ]
  },
  {
   "cell_type": "code",
   "execution_count": 11,
   "id": "4e998eb4",
   "metadata": {
    "scrolled": true
   },
   "outputs": [],
   "source": [
    "data.rename(columns={\"memory\":\"RAM\",\"storage\":\"ROM\"},inplace=True)"
   ]
  },
  {
   "cell_type": "code",
   "execution_count": 12,
   "id": "a3b1dae0",
   "metadata": {
    "scrolled": true
   },
   "outputs": [
    {
     "data": {
      "text/plain": [
       "(array(['64 GB', '128 GB', '32 GB', '256 GB', '16 GB', '8 GB', '4 GB',\n",
       "        '512 GB', '16 MB', '128 MB', '2 MB', '4 MB',\n",
       "        'Expandable Upto 32 GB', '8 MB', 'Expandable Upto 16 GB', '10 MB',\n",
       "        '256 MB', '140 MB', '64 MB', '153 MB', '512 MB', '1 TB', '100 MB',\n",
       "        '129 GB', '130 GB'], dtype=object),\n",
       " array(['4 GB', '6 GB', '3 GB', '8 GB', '2 GB', '12 GB', '1 GB', '512 MB',\n",
       "        '1.5 GB', '768 MB', '8 MB', '64 MB', '4 MB', '32 MB', '16 MB',\n",
       "        '4GB', '153 MB', '128 MB', '2 MB', '10 MB', '46 MB', '16 GB',\n",
       "        '100 MB', '30 MB'], dtype=object))"
      ]
     },
     "execution_count": 12,
     "metadata": {},
     "output_type": "execute_result"
    }
   ],
   "source": [
    "data.ROM.unique() ,  data.RAM.unique()"
   ]
  },
  {
   "cell_type": "code",
   "execution_count": 13,
   "id": "c1c71135",
   "metadata": {
    "scrolled": true
   },
   "outputs": [
    {
     "data": {
      "text/html": [
       "<div>\n",
       "<style scoped>\n",
       "    .dataframe tbody tr th:only-of-type {\n",
       "        vertical-align: middle;\n",
       "    }\n",
       "\n",
       "    .dataframe tbody tr th {\n",
       "        vertical-align: top;\n",
       "    }\n",
       "\n",
       "    .dataframe thead th {\n",
       "        text-align: right;\n",
       "    }\n",
       "</style>\n",
       "<table border=\"1\" class=\"dataframe\">\n",
       "  <thead>\n",
       "    <tr style=\"text-align: right;\">\n",
       "      <th></th>\n",
       "      <th>brand</th>\n",
       "      <th>model</th>\n",
       "      <th>color</th>\n",
       "      <th>RAM</th>\n",
       "      <th>ROM</th>\n",
       "      <th>rating</th>\n",
       "      <th>selling_price</th>\n",
       "      <th>original_price</th>\n",
       "      <th>total_sales</th>\n",
       "    </tr>\n",
       "  </thead>\n",
       "  <tbody>\n",
       "    <tr>\n",
       "      <th>0</th>\n",
       "      <td>OPPO</td>\n",
       "      <td>A53</td>\n",
       "      <td>Moonlight Black</td>\n",
       "      <td>4 GB</td>\n",
       "      <td>64 GB</td>\n",
       "      <td>4.5</td>\n",
       "      <td>11990</td>\n",
       "      <td>15990</td>\n",
       "      <td>1563</td>\n",
       "    </tr>\n",
       "    <tr>\n",
       "      <th>1</th>\n",
       "      <td>OPPO</td>\n",
       "      <td>A53</td>\n",
       "      <td>Mint Cream</td>\n",
       "      <td>4 GB</td>\n",
       "      <td>64 GB</td>\n",
       "      <td>4.5</td>\n",
       "      <td>11990</td>\n",
       "      <td>15990</td>\n",
       "      <td>4909</td>\n",
       "    </tr>\n",
       "    <tr>\n",
       "      <th>2</th>\n",
       "      <td>OPPO</td>\n",
       "      <td>A53</td>\n",
       "      <td>Moonlight Black</td>\n",
       "      <td>6 GB</td>\n",
       "      <td>128 GB</td>\n",
       "      <td>4.3</td>\n",
       "      <td>13990</td>\n",
       "      <td>17990</td>\n",
       "      <td>701</td>\n",
       "    </tr>\n",
       "    <tr>\n",
       "      <th>3</th>\n",
       "      <td>OPPO</td>\n",
       "      <td>A53</td>\n",
       "      <td>Mint Cream</td>\n",
       "      <td>6 GB</td>\n",
       "      <td>128 GB</td>\n",
       "      <td>4.3</td>\n",
       "      <td>13990</td>\n",
       "      <td>17990</td>\n",
       "      <td>5241</td>\n",
       "    </tr>\n",
       "    <tr>\n",
       "      <th>4</th>\n",
       "      <td>OPPO</td>\n",
       "      <td>A53</td>\n",
       "      <td>Electric Black</td>\n",
       "      <td>4 GB</td>\n",
       "      <td>64 GB</td>\n",
       "      <td>4.5</td>\n",
       "      <td>11990</td>\n",
       "      <td>15990</td>\n",
       "      <td>8837</td>\n",
       "    </tr>\n",
       "  </tbody>\n",
       "</table>\n",
       "</div>"
      ],
      "text/plain": [
       "  brand model            color   RAM     ROM  rating  selling_price  \\\n",
       "0  OPPO   A53  Moonlight Black  4 GB   64 GB     4.5          11990   \n",
       "1  OPPO   A53       Mint Cream  4 GB   64 GB     4.5          11990   \n",
       "2  OPPO   A53  Moonlight Black  6 GB  128 GB     4.3          13990   \n",
       "3  OPPO   A53       Mint Cream  6 GB  128 GB     4.3          13990   \n",
       "4  OPPO   A53   Electric Black  4 GB   64 GB     4.5          11990   \n",
       "\n",
       "   original_price  total_sales  \n",
       "0           15990         1563  \n",
       "1           15990         4909  \n",
       "2           17990          701  \n",
       "3           17990         5241  \n",
       "4           15990         8837  "
      ]
     },
     "execution_count": 13,
     "metadata": {},
     "output_type": "execute_result"
    }
   ],
   "source": [
    "data.head()"
   ]
  },
  {
   "cell_type": "code",
   "execution_count": 14,
   "id": "fbe224cb",
   "metadata": {
    "scrolled": true
   },
   "outputs": [],
   "source": [
    "# We only need data that has the storage in GB which refers that these are smart phones ,\n",
    "# so we create a new column for further deleting the models with RAM & ROM with other than GB\n",
    "\n",
    "col_RAM_del_list = []\n",
    "col_ROM_del_list = []\n",
    "for i in data.RAM:\n",
    "    if 'GB' in i:\n",
    "        col_RAM_del_list.append(\"OK\")\n",
    "    else:\n",
    "        col_RAM_del_list.append(np.nan)\n",
    "        \n",
    "for j in data.ROM:\n",
    "    if 'GB' in j:\n",
    "        col_ROM_del_list.append(\"OK\")\n",
    "    else:\n",
    "        col_ROM_del_list.append(np.nan)\n",
    "        \n",
    "data[\"del_RAM\"] = col_RAM_del_list\n",
    "data[\"del_ROM\"] = col_ROM_del_list"
   ]
  },
  {
   "cell_type": "code",
   "execution_count": 15,
   "id": "9554590d",
   "metadata": {
    "scrolled": true
   },
   "outputs": [
    {
     "data": {
      "text/plain": [
       "brand               0\n",
       "model               0\n",
       "color               0\n",
       "RAM                 0\n",
       "ROM                 0\n",
       "rating              0\n",
       "selling_price       0\n",
       "original_price      0\n",
       "total_sales         0\n",
       "del_RAM           117\n",
       "del_ROM            68\n",
       "dtype: int64"
      ]
     },
     "execution_count": 15,
     "metadata": {},
     "output_type": "execute_result"
    }
   ],
   "source": [
    "data.isna().sum()"
   ]
  },
  {
   "cell_type": "code",
   "execution_count": 16,
   "id": "ef4d7467",
   "metadata": {
    "scrolled": true
   },
   "outputs": [],
   "source": [
    "# dropping the rows that has null values , i.e which have RAM & ROM other that GB \n",
    "data.dropna(how=\"any\",subset=[\"del_RAM\",\"del_ROM\"],inplace=True)"
   ]
  },
  {
   "cell_type": "code",
   "execution_count": 17,
   "id": "09a92177",
   "metadata": {
    "scrolled": true
   },
   "outputs": [],
   "source": [
    "# dropping the columns \"del_RAM\" and \"del_ROM\"\n",
    "data.drop(columns=[\"del_RAM\",\"del_ROM\"],inplace=True)"
   ]
  },
  {
   "cell_type": "code",
   "execution_count": 18,
   "id": "fb1c67c5",
   "metadata": {
    "scrolled": true
   },
   "outputs": [],
   "source": [
    "# Removing the text part in the RAM & ROM columns \n",
    "data[\"ROM\"] = data[\"ROM\"].str.extract(r'(\\d+)')\n",
    "data[\"RAM\"] = data[\"RAM\"].str.extract(r'(\\d+)')"
   ]
  },
  {
   "cell_type": "code",
   "execution_count": 19,
   "id": "ac83d973",
   "metadata": {
    "scrolled": true
   },
   "outputs": [
    {
     "data": {
      "text/html": [
       "<div>\n",
       "<style scoped>\n",
       "    .dataframe tbody tr th:only-of-type {\n",
       "        vertical-align: middle;\n",
       "    }\n",
       "\n",
       "    .dataframe tbody tr th {\n",
       "        vertical-align: top;\n",
       "    }\n",
       "\n",
       "    .dataframe thead th {\n",
       "        text-align: right;\n",
       "    }\n",
       "</style>\n",
       "<table border=\"1\" class=\"dataframe\">\n",
       "  <thead>\n",
       "    <tr style=\"text-align: right;\">\n",
       "      <th></th>\n",
       "      <th>brand</th>\n",
       "      <th>model</th>\n",
       "      <th>color</th>\n",
       "      <th>RAM</th>\n",
       "      <th>ROM</th>\n",
       "      <th>rating</th>\n",
       "      <th>selling_price</th>\n",
       "      <th>original_price</th>\n",
       "      <th>total_sales</th>\n",
       "      <th>storage</th>\n",
       "    </tr>\n",
       "  </thead>\n",
       "  <tbody>\n",
       "    <tr>\n",
       "      <th>0</th>\n",
       "      <td>OPPO</td>\n",
       "      <td>A53</td>\n",
       "      <td>Moonlight Black</td>\n",
       "      <td>4</td>\n",
       "      <td>64</td>\n",
       "      <td>4.5</td>\n",
       "      <td>11990</td>\n",
       "      <td>15990</td>\n",
       "      <td>1563</td>\n",
       "      <td>4_64</td>\n",
       "    </tr>\n",
       "    <tr>\n",
       "      <th>1</th>\n",
       "      <td>OPPO</td>\n",
       "      <td>A53</td>\n",
       "      <td>Mint Cream</td>\n",
       "      <td>4</td>\n",
       "      <td>64</td>\n",
       "      <td>4.5</td>\n",
       "      <td>11990</td>\n",
       "      <td>15990</td>\n",
       "      <td>4909</td>\n",
       "      <td>4_64</td>\n",
       "    </tr>\n",
       "  </tbody>\n",
       "</table>\n",
       "</div>"
      ],
      "text/plain": [
       "  brand model            color RAM ROM  rating  selling_price  original_price  \\\n",
       "0  OPPO   A53  Moonlight Black   4  64     4.5          11990           15990   \n",
       "1  OPPO   A53       Mint Cream   4  64     4.5          11990           15990   \n",
       "\n",
       "   total_sales storage  \n",
       "0         1563    4_64  \n",
       "1         4909    4_64  "
      ]
     },
     "execution_count": 19,
     "metadata": {},
     "output_type": "execute_result"
    }
   ],
   "source": [
    "# creating a new column by concating \"RAM\" & \"ROM\" as \"storage\" for obtaining unique values of storage for further process\n",
    "data[\"storage\"] = data[\"RAM\"]+\"_\"+data[\"ROM\"]\n",
    "data.head(2)"
   ]
  },
  {
   "cell_type": "code",
   "execution_count": 20,
   "id": "ed447e98",
   "metadata": {
    "scrolled": false
   },
   "outputs": [
    {
     "data": {
      "text/plain": [
       "array(['4_64', '6_128', '3_32', '8_128', '2_32', '4_128', '12_256',\n",
       "       '6_256', '8_256', '6_64', '3_64', '2_16', '4_32', '3_16', '1_16',\n",
       "       '1_8', '1_4', '12_128', '2_8', '12_512', '1_32', '2_64', '3_128',\n",
       "       '2_128', '4_256', '2_256', '6_512', '3_256', '4_512', '1_64',\n",
       "       '1_128', '8_512', '16_512', '6_129', '6_130', '8_129', '8_130'],\n",
       "      dtype=object)"
      ]
     },
     "execution_count": 20,
     "metadata": {},
     "output_type": "execute_result"
    }
   ],
   "source": [
    "data[\"storage\"].unique()"
   ]
  },
  {
   "cell_type": "code",
   "execution_count": 21,
   "id": "9211d09d",
   "metadata": {
    "scrolled": true
   },
   "outputs": [
    {
     "data": {
      "text/html": [
       "<div>\n",
       "<style scoped>\n",
       "    .dataframe tbody tr th:only-of-type {\n",
       "        vertical-align: middle;\n",
       "    }\n",
       "\n",
       "    .dataframe tbody tr th {\n",
       "        vertical-align: top;\n",
       "    }\n",
       "\n",
       "    .dataframe thead th {\n",
       "        text-align: right;\n",
       "    }\n",
       "</style>\n",
       "<table border=\"1\" class=\"dataframe\">\n",
       "  <thead>\n",
       "    <tr style=\"text-align: right;\">\n",
       "      <th></th>\n",
       "      <th>brand</th>\n",
       "      <th>model</th>\n",
       "      <th>color</th>\n",
       "      <th>RAM</th>\n",
       "      <th>ROM</th>\n",
       "      <th>rating</th>\n",
       "      <th>selling_price</th>\n",
       "      <th>original_price</th>\n",
       "      <th>total_sales</th>\n",
       "      <th>storage</th>\n",
       "    </tr>\n",
       "  </thead>\n",
       "  <tbody>\n",
       "    <tr>\n",
       "      <th>0</th>\n",
       "      <td>OPPO</td>\n",
       "      <td>A53</td>\n",
       "      <td>Moonlight Black</td>\n",
       "      <td>4</td>\n",
       "      <td>64</td>\n",
       "      <td>4.5</td>\n",
       "      <td>11990</td>\n",
       "      <td>15990</td>\n",
       "      <td>1563</td>\n",
       "      <td>4_64</td>\n",
       "    </tr>\n",
       "    <tr>\n",
       "      <th>1</th>\n",
       "      <td>OPPO</td>\n",
       "      <td>A53</td>\n",
       "      <td>Mint Cream</td>\n",
       "      <td>4</td>\n",
       "      <td>64</td>\n",
       "      <td>4.5</td>\n",
       "      <td>11990</td>\n",
       "      <td>15990</td>\n",
       "      <td>4909</td>\n",
       "      <td>4_64</td>\n",
       "    </tr>\n",
       "    <tr>\n",
       "      <th>2</th>\n",
       "      <td>OPPO</td>\n",
       "      <td>A53</td>\n",
       "      <td>Moonlight Black</td>\n",
       "      <td>6</td>\n",
       "      <td>128</td>\n",
       "      <td>4.3</td>\n",
       "      <td>13990</td>\n",
       "      <td>17990</td>\n",
       "      <td>701</td>\n",
       "      <td>6_128</td>\n",
       "    </tr>\n",
       "    <tr>\n",
       "      <th>3</th>\n",
       "      <td>OPPO</td>\n",
       "      <td>A53</td>\n",
       "      <td>Mint Cream</td>\n",
       "      <td>6</td>\n",
       "      <td>128</td>\n",
       "      <td>4.3</td>\n",
       "      <td>13990</td>\n",
       "      <td>17990</td>\n",
       "      <td>5241</td>\n",
       "      <td>6_128</td>\n",
       "    </tr>\n",
       "    <tr>\n",
       "      <th>4</th>\n",
       "      <td>OPPO</td>\n",
       "      <td>A53</td>\n",
       "      <td>Electric Black</td>\n",
       "      <td>4</td>\n",
       "      <td>64</td>\n",
       "      <td>4.5</td>\n",
       "      <td>11990</td>\n",
       "      <td>15990</td>\n",
       "      <td>8837</td>\n",
       "      <td>4_64</td>\n",
       "    </tr>\n",
       "  </tbody>\n",
       "</table>\n",
       "</div>"
      ],
      "text/plain": [
       "  brand model            color RAM  ROM  rating  selling_price  \\\n",
       "0  OPPO   A53  Moonlight Black   4   64     4.5          11990   \n",
       "1  OPPO   A53       Mint Cream   4   64     4.5          11990   \n",
       "2  OPPO   A53  Moonlight Black   6  128     4.3          13990   \n",
       "3  OPPO   A53       Mint Cream   6  128     4.3          13990   \n",
       "4  OPPO   A53   Electric Black   4   64     4.5          11990   \n",
       "\n",
       "   original_price  total_sales storage  \n",
       "0           15990         1563    4_64  \n",
       "1           15990         4909    4_64  \n",
       "2           17990          701   6_128  \n",
       "3           17990         5241   6_128  \n",
       "4           15990         8837    4_64  "
      ]
     },
     "execution_count": 21,
     "metadata": {},
     "output_type": "execute_result"
    }
   ],
   "source": [
    "data.head()"
   ]
  },
  {
   "cell_type": "code",
   "execution_count": 22,
   "id": "2604da87",
   "metadata": {
    "scrolled": true
   },
   "outputs": [],
   "source": [
    "# Adding new column with incremented values as \"Model number\"\n",
    "data.insert(0,\"model_type_id\",range(1,len(data)+1),allow_duplicates=False)"
   ]
  },
  {
   "cell_type": "code",
   "execution_count": 23,
   "id": "35e18c7b",
   "metadata": {
    "scrolled": true
   },
   "outputs": [
    {
     "data": {
      "text/html": [
       "<div>\n",
       "<style scoped>\n",
       "    .dataframe tbody tr th:only-of-type {\n",
       "        vertical-align: middle;\n",
       "    }\n",
       "\n",
       "    .dataframe tbody tr th {\n",
       "        vertical-align: top;\n",
       "    }\n",
       "\n",
       "    .dataframe thead th {\n",
       "        text-align: right;\n",
       "    }\n",
       "</style>\n",
       "<table border=\"1\" class=\"dataframe\">\n",
       "  <thead>\n",
       "    <tr style=\"text-align: right;\">\n",
       "      <th></th>\n",
       "      <th>model_type_id</th>\n",
       "      <th>brand</th>\n",
       "      <th>model</th>\n",
       "    </tr>\n",
       "  </thead>\n",
       "  <tbody>\n",
       "    <tr>\n",
       "      <th>0</th>\n",
       "      <td>1</td>\n",
       "      <td>OPPO</td>\n",
       "      <td>A53</td>\n",
       "    </tr>\n",
       "    <tr>\n",
       "      <th>1</th>\n",
       "      <td>2</td>\n",
       "      <td>OPPO</td>\n",
       "      <td>A53</td>\n",
       "    </tr>\n",
       "    <tr>\n",
       "      <th>2</th>\n",
       "      <td>3</td>\n",
       "      <td>OPPO</td>\n",
       "      <td>A53</td>\n",
       "    </tr>\n",
       "    <tr>\n",
       "      <th>3</th>\n",
       "      <td>4</td>\n",
       "      <td>OPPO</td>\n",
       "      <td>A53</td>\n",
       "    </tr>\n",
       "    <tr>\n",
       "      <th>4</th>\n",
       "      <td>5</td>\n",
       "      <td>OPPO</td>\n",
       "      <td>A53</td>\n",
       "    </tr>\n",
       "  </tbody>\n",
       "</table>\n",
       "</div>"
      ],
      "text/plain": [
       "   model_type_id brand model\n",
       "0              1  OPPO   A53\n",
       "1              2  OPPO   A53\n",
       "2              3  OPPO   A53\n",
       "3              4  OPPO   A53\n",
       "4              5  OPPO   A53"
      ]
     },
     "execution_count": 23,
     "metadata": {},
     "output_type": "execute_result"
    }
   ],
   "source": [
    "# Creating seperate table as model type with model number , brand and model columns as attributes\n",
    "model_type_df  =  pd.DataFrame(data[[\"model_type_id\",\"brand\",\"model\"]])\n",
    "model_type_df.head()"
   ]
  },
  {
   "cell_type": "code",
   "execution_count": 25,
   "id": "0d04ca15",
   "metadata": {
    "scrolled": true
   },
   "outputs": [],
   "source": [
    "# Creating a new column major_coor according to the correspoding color code in major-color list\n",
    "c_list = list(data['color'].squeeze())\n",
    "color_col_list= []\n",
    "for i in c_list:\n",
    "    color_col_list.append(i.lower())\n",
    "\n",
    "major_colour = [\"blue\",\"black\",\"brown\",\"red\",\"gold\",\"purple\",\"green\",\"white\",\"grey\",\"silver\",\"pink\",\"yellow\",\"orange\",\"violet\"] \n",
    "new_color_col_list = []\n",
    "for i in color_col_list:\n",
    "    for j in major_colour:\n",
    "        if j in i:\n",
    "            new_color_col_list.append(j)\n",
    "            break \n",
    "    else:\n",
    "        new_color_col_list.append(\"others\")\n"
   ]
  },
  {
   "cell_type": "code",
   "execution_count": 26,
   "id": "abb6bade",
   "metadata": {
    "scrolled": true
   },
   "outputs": [
    {
     "data": {
      "text/html": [
       "<div>\n",
       "<style scoped>\n",
       "    .dataframe tbody tr th:only-of-type {\n",
       "        vertical-align: middle;\n",
       "    }\n",
       "\n",
       "    .dataframe tbody tr th {\n",
       "        vertical-align: top;\n",
       "    }\n",
       "\n",
       "    .dataframe thead th {\n",
       "        text-align: right;\n",
       "    }\n",
       "</style>\n",
       "<table border=\"1\" class=\"dataframe\">\n",
       "  <thead>\n",
       "    <tr style=\"text-align: right;\">\n",
       "      <th></th>\n",
       "      <th>model_type_id</th>\n",
       "      <th>brand</th>\n",
       "      <th>model</th>\n",
       "      <th>color</th>\n",
       "      <th>RAM</th>\n",
       "      <th>ROM</th>\n",
       "      <th>rating</th>\n",
       "      <th>selling_price</th>\n",
       "      <th>original_price</th>\n",
       "      <th>total_sales</th>\n",
       "      <th>storage</th>\n",
       "    </tr>\n",
       "  </thead>\n",
       "  <tbody>\n",
       "    <tr>\n",
       "      <th>0</th>\n",
       "      <td>1</td>\n",
       "      <td>OPPO</td>\n",
       "      <td>A53</td>\n",
       "      <td>Moonlight Black</td>\n",
       "      <td>4</td>\n",
       "      <td>64</td>\n",
       "      <td>4.5</td>\n",
       "      <td>11990</td>\n",
       "      <td>15990</td>\n",
       "      <td>1563</td>\n",
       "      <td>4_64</td>\n",
       "    </tr>\n",
       "    <tr>\n",
       "      <th>1</th>\n",
       "      <td>2</td>\n",
       "      <td>OPPO</td>\n",
       "      <td>A53</td>\n",
       "      <td>Mint Cream</td>\n",
       "      <td>4</td>\n",
       "      <td>64</td>\n",
       "      <td>4.5</td>\n",
       "      <td>11990</td>\n",
       "      <td>15990</td>\n",
       "      <td>4909</td>\n",
       "      <td>4_64</td>\n",
       "    </tr>\n",
       "    <tr>\n",
       "      <th>2</th>\n",
       "      <td>3</td>\n",
       "      <td>OPPO</td>\n",
       "      <td>A53</td>\n",
       "      <td>Moonlight Black</td>\n",
       "      <td>6</td>\n",
       "      <td>128</td>\n",
       "      <td>4.3</td>\n",
       "      <td>13990</td>\n",
       "      <td>17990</td>\n",
       "      <td>701</td>\n",
       "      <td>6_128</td>\n",
       "    </tr>\n",
       "  </tbody>\n",
       "</table>\n",
       "</div>"
      ],
      "text/plain": [
       "   model_type_id brand model            color RAM  ROM  rating  selling_price  \\\n",
       "0              1  OPPO   A53  Moonlight Black   4   64     4.5          11990   \n",
       "1              2  OPPO   A53       Mint Cream   4   64     4.5          11990   \n",
       "2              3  OPPO   A53  Moonlight Black   6  128     4.3          13990   \n",
       "\n",
       "   original_price  total_sales storage  \n",
       "0           15990         1563    4_64  \n",
       "1           15990         4909    4_64  \n",
       "2           17990          701   6_128  "
      ]
     },
     "execution_count": 26,
     "metadata": {},
     "output_type": "execute_result"
    }
   ],
   "source": [
    "data.head(3)"
   ]
  },
  {
   "cell_type": "code",
   "execution_count": 27,
   "id": "d6ff13f4",
   "metadata": {
    "scrolled": true
   },
   "outputs": [],
   "source": [
    "# Inserting new column main_color to the data set\n",
    "data.insert(4,\"main_colour\",new_color_col_list)"
   ]
  },
  {
   "cell_type": "code",
   "execution_count": 28,
   "id": "b8d9acab",
   "metadata": {
    "scrolled": true
   },
   "outputs": [
    {
     "data": {
      "text/html": [
       "<div>\n",
       "<style scoped>\n",
       "    .dataframe tbody tr th:only-of-type {\n",
       "        vertical-align: middle;\n",
       "    }\n",
       "\n",
       "    .dataframe tbody tr th {\n",
       "        vertical-align: top;\n",
       "    }\n",
       "\n",
       "    .dataframe thead th {\n",
       "        text-align: right;\n",
       "    }\n",
       "</style>\n",
       "<table border=\"1\" class=\"dataframe\">\n",
       "  <thead>\n",
       "    <tr style=\"text-align: right;\">\n",
       "      <th></th>\n",
       "      <th>model_type_id</th>\n",
       "      <th>brand</th>\n",
       "      <th>model</th>\n",
       "      <th>color</th>\n",
       "      <th>main_colour</th>\n",
       "      <th>RAM</th>\n",
       "      <th>ROM</th>\n",
       "      <th>rating</th>\n",
       "      <th>selling_price</th>\n",
       "      <th>original_price</th>\n",
       "      <th>total_sales</th>\n",
       "      <th>storage</th>\n",
       "    </tr>\n",
       "  </thead>\n",
       "  <tbody>\n",
       "    <tr>\n",
       "      <th>0</th>\n",
       "      <td>1</td>\n",
       "      <td>OPPO</td>\n",
       "      <td>A53</td>\n",
       "      <td>Moonlight Black</td>\n",
       "      <td>black</td>\n",
       "      <td>4</td>\n",
       "      <td>64</td>\n",
       "      <td>4.5</td>\n",
       "      <td>11990</td>\n",
       "      <td>15990</td>\n",
       "      <td>1563</td>\n",
       "      <td>4_64</td>\n",
       "    </tr>\n",
       "    <tr>\n",
       "      <th>1</th>\n",
       "      <td>2</td>\n",
       "      <td>OPPO</td>\n",
       "      <td>A53</td>\n",
       "      <td>Mint Cream</td>\n",
       "      <td>others</td>\n",
       "      <td>4</td>\n",
       "      <td>64</td>\n",
       "      <td>4.5</td>\n",
       "      <td>11990</td>\n",
       "      <td>15990</td>\n",
       "      <td>4909</td>\n",
       "      <td>4_64</td>\n",
       "    </tr>\n",
       "    <tr>\n",
       "      <th>2</th>\n",
       "      <td>3</td>\n",
       "      <td>OPPO</td>\n",
       "      <td>A53</td>\n",
       "      <td>Moonlight Black</td>\n",
       "      <td>black</td>\n",
       "      <td>6</td>\n",
       "      <td>128</td>\n",
       "      <td>4.3</td>\n",
       "      <td>13990</td>\n",
       "      <td>17990</td>\n",
       "      <td>701</td>\n",
       "      <td>6_128</td>\n",
       "    </tr>\n",
       "  </tbody>\n",
       "</table>\n",
       "</div>"
      ],
      "text/plain": [
       "   model_type_id brand model            color main_colour RAM  ROM  rating  \\\n",
       "0              1  OPPO   A53  Moonlight Black       black   4   64     4.5   \n",
       "1              2  OPPO   A53       Mint Cream      others   4   64     4.5   \n",
       "2              3  OPPO   A53  Moonlight Black       black   6  128     4.3   \n",
       "\n",
       "   selling_price  original_price  total_sales storage  \n",
       "0          11990           15990         1563    4_64  \n",
       "1          11990           15990         4909    4_64  \n",
       "2          13990           17990          701   6_128  "
      ]
     },
     "execution_count": 28,
     "metadata": {},
     "output_type": "execute_result"
    }
   ],
   "source": [
    "data.head(3)"
   ]
  },
  {
   "cell_type": "code",
   "execution_count": 29,
   "id": "1cc7df92",
   "metadata": {
    "scrolled": true
   },
   "outputs": [
    {
     "data": {
      "text/plain": [
       "1985"
      ]
     },
     "execution_count": 29,
     "metadata": {},
     "output_type": "execute_result"
    }
   ],
   "source": [
    "# Creating seperate table as model color with color_id , color and main_color columns as attributes\n",
    "color_df  =  pd.DataFrame(data[[\"color\",\"main_colour\"]])\n",
    "\n",
    "color_df.duplicated('color').sum()"
   ]
  },
  {
   "cell_type": "code",
   "execution_count": 30,
   "id": "fc6b7ab5",
   "metadata": {
    "scrolled": true
   },
   "outputs": [],
   "source": [
    "# Remove duplicates from model_color_df\n",
    "color_df.drop_duplicates(subset=['color'],inplace=True)"
   ]
  },
  {
   "cell_type": "code",
   "execution_count": 31,
   "id": "29d7bdaa",
   "metadata": {
    "scrolled": true
   },
   "outputs": [
    {
     "data": {
      "text/plain": [
       "(617, 2)"
      ]
     },
     "execution_count": 31,
     "metadata": {},
     "output_type": "execute_result"
    }
   ],
   "source": [
    "color_df.shape"
   ]
  },
  {
   "cell_type": "code",
   "execution_count": 32,
   "id": "f6e2f620",
   "metadata": {
    "scrolled": true
   },
   "outputs": [],
   "source": [
    "# Inserting new column color_id to the data set \n",
    "color_df.insert(0,\"color_id\",range(1,len(color_df)+1))"
   ]
  },
  {
   "cell_type": "code",
   "execution_count": 33,
   "id": "3112b352",
   "metadata": {
    "scrolled": true
   },
   "outputs": [
    {
     "data": {
      "text/html": [
       "<div>\n",
       "<style scoped>\n",
       "    .dataframe tbody tr th:only-of-type {\n",
       "        vertical-align: middle;\n",
       "    }\n",
       "\n",
       "    .dataframe tbody tr th {\n",
       "        vertical-align: top;\n",
       "    }\n",
       "\n",
       "    .dataframe thead th {\n",
       "        text-align: right;\n",
       "    }\n",
       "</style>\n",
       "<table border=\"1\" class=\"dataframe\">\n",
       "  <thead>\n",
       "    <tr style=\"text-align: right;\">\n",
       "      <th></th>\n",
       "      <th>color_id</th>\n",
       "      <th>color</th>\n",
       "      <th>main_colour</th>\n",
       "    </tr>\n",
       "  </thead>\n",
       "  <tbody>\n",
       "    <tr>\n",
       "      <th>0</th>\n",
       "      <td>1</td>\n",
       "      <td>Moonlight Black</td>\n",
       "      <td>black</td>\n",
       "    </tr>\n",
       "    <tr>\n",
       "      <th>1</th>\n",
       "      <td>2</td>\n",
       "      <td>Mint Cream</td>\n",
       "      <td>others</td>\n",
       "    </tr>\n",
       "    <tr>\n",
       "      <th>4</th>\n",
       "      <td>3</td>\n",
       "      <td>Electric Black</td>\n",
       "      <td>black</td>\n",
       "    </tr>\n",
       "  </tbody>\n",
       "</table>\n",
       "</div>"
      ],
      "text/plain": [
       "   color_id            color main_colour\n",
       "0         1  Moonlight Black       black\n",
       "1         2       Mint Cream      others\n",
       "4         3   Electric Black       black"
      ]
     },
     "execution_count": 33,
     "metadata": {},
     "output_type": "execute_result"
    }
   ],
   "source": [
    "color_df.head(3)"
   ]
  },
  {
   "cell_type": "code",
   "execution_count": 34,
   "id": "06072cdf",
   "metadata": {
    "scrolled": true
   },
   "outputs": [],
   "source": [
    "# Merging data with model_color_df and then changing the original df 'data' to the obtained merged data\n",
    "data_with_colortbl_mrg = data.merge(color_df, on=\"color\",sort=False)\n",
    "data = data_with_colortbl_mrg.loc[::,['model_type_id', 'brand', 'model', 'color', 'main_colour_x', 'RAM', 'ROM',\n",
    "       'rating', 'selling_price', 'original_price', 'total_sales', 'storage',\n",
    "       'color_id']]"
   ]
  },
  {
   "cell_type": "code",
   "execution_count": 35,
   "id": "326fb585",
   "metadata": {
    "scrolled": false
   },
   "outputs": [
    {
     "data": {
      "text/html": [
       "<div>\n",
       "<style scoped>\n",
       "    .dataframe tbody tr th:only-of-type {\n",
       "        vertical-align: middle;\n",
       "    }\n",
       "\n",
       "    .dataframe tbody tr th {\n",
       "        vertical-align: top;\n",
       "    }\n",
       "\n",
       "    .dataframe thead th {\n",
       "        text-align: right;\n",
       "    }\n",
       "</style>\n",
       "<table border=\"1\" class=\"dataframe\">\n",
       "  <thead>\n",
       "    <tr style=\"text-align: right;\">\n",
       "      <th></th>\n",
       "      <th>model_type_id</th>\n",
       "      <th>brand</th>\n",
       "      <th>model</th>\n",
       "      <th>color</th>\n",
       "      <th>main_colour_x</th>\n",
       "      <th>RAM</th>\n",
       "      <th>ROM</th>\n",
       "      <th>rating</th>\n",
       "      <th>selling_price</th>\n",
       "      <th>original_price</th>\n",
       "      <th>total_sales</th>\n",
       "      <th>storage</th>\n",
       "      <th>color_id</th>\n",
       "    </tr>\n",
       "  </thead>\n",
       "  <tbody>\n",
       "    <tr>\n",
       "      <th>0</th>\n",
       "      <td>1</td>\n",
       "      <td>OPPO</td>\n",
       "      <td>A53</td>\n",
       "      <td>Moonlight Black</td>\n",
       "      <td>black</td>\n",
       "      <td>4</td>\n",
       "      <td>64</td>\n",
       "      <td>4.5</td>\n",
       "      <td>11990</td>\n",
       "      <td>15990</td>\n",
       "      <td>1563</td>\n",
       "      <td>4_64</td>\n",
       "      <td>1</td>\n",
       "    </tr>\n",
       "    <tr>\n",
       "      <th>1</th>\n",
       "      <td>3</td>\n",
       "      <td>OPPO</td>\n",
       "      <td>A53</td>\n",
       "      <td>Moonlight Black</td>\n",
       "      <td>black</td>\n",
       "      <td>6</td>\n",
       "      <td>128</td>\n",
       "      <td>4.3</td>\n",
       "      <td>13990</td>\n",
       "      <td>17990</td>\n",
       "      <td>701</td>\n",
       "      <td>6_128</td>\n",
       "      <td>1</td>\n",
       "    </tr>\n",
       "    <tr>\n",
       "      <th>2</th>\n",
       "      <td>18</td>\n",
       "      <td>OPPO</td>\n",
       "      <td>A33</td>\n",
       "      <td>Moonlight Black</td>\n",
       "      <td>black</td>\n",
       "      <td>3</td>\n",
       "      <td>32</td>\n",
       "      <td>4.3</td>\n",
       "      <td>10490</td>\n",
       "      <td>12990</td>\n",
       "      <td>8683</td>\n",
       "      <td>3_32</td>\n",
       "      <td>1</td>\n",
       "    </tr>\n",
       "  </tbody>\n",
       "</table>\n",
       "</div>"
      ],
      "text/plain": [
       "   model_type_id brand model            color main_colour_x RAM  ROM  rating  \\\n",
       "0              1  OPPO   A53  Moonlight Black         black   4   64     4.5   \n",
       "1              3  OPPO   A53  Moonlight Black         black   6  128     4.3   \n",
       "2             18  OPPO   A33  Moonlight Black         black   3   32     4.3   \n",
       "\n",
       "   selling_price  original_price  total_sales storage  color_id  \n",
       "0          11990           15990         1563    4_64         1  \n",
       "1          13990           17990          701   6_128         1  \n",
       "2          10490           12990         8683    3_32         1  "
      ]
     },
     "execution_count": 35,
     "metadata": {},
     "output_type": "execute_result"
    }
   ],
   "source": [
    "data.head(3)"
   ]
  },
  {
   "cell_type": "code",
   "execution_count": 36,
   "id": "3c5134a0",
   "metadata": {
    "scrolled": true
   },
   "outputs": [
    {
     "data": {
      "text/plain": [
       "2565"
      ]
     },
     "execution_count": 36,
     "metadata": {},
     "output_type": "execute_result"
    }
   ],
   "source": [
    "storage_df =pd.DataFrame(data[[\"storage\",\"RAM\",\"ROM\"]])\n",
    "storage_df.duplicated('storage').sum()"
   ]
  },
  {
   "cell_type": "code",
   "execution_count": 37,
   "id": "0d646685",
   "metadata": {
    "scrolled": true
   },
   "outputs": [],
   "source": [
    "# Removing duplicates from storage dataframe with certain condition \n",
    "storage_df.drop_duplicates(subset=['storage'],inplace=True)"
   ]
  },
  {
   "cell_type": "code",
   "execution_count": 38,
   "id": "f6965e44",
   "metadata": {
    "scrolled": true
   },
   "outputs": [],
   "source": [
    "# Inserting new column to the storage_df\n",
    "storage_df.insert(0,\"storage_id\",range(1,len(storage_df)+1))"
   ]
  },
  {
   "cell_type": "code",
   "execution_count": 39,
   "id": "acaa2477",
   "metadata": {
    "scrolled": true
   },
   "outputs": [
    {
     "data": {
      "text/html": [
       "<div>\n",
       "<style scoped>\n",
       "    .dataframe tbody tr th:only-of-type {\n",
       "        vertical-align: middle;\n",
       "    }\n",
       "\n",
       "    .dataframe tbody tr th {\n",
       "        vertical-align: top;\n",
       "    }\n",
       "\n",
       "    .dataframe thead th {\n",
       "        text-align: right;\n",
       "    }\n",
       "</style>\n",
       "<table border=\"1\" class=\"dataframe\">\n",
       "  <thead>\n",
       "    <tr style=\"text-align: right;\">\n",
       "      <th></th>\n",
       "      <th>storage_id</th>\n",
       "      <th>storage</th>\n",
       "      <th>RAM</th>\n",
       "      <th>ROM</th>\n",
       "    </tr>\n",
       "  </thead>\n",
       "  <tbody>\n",
       "    <tr>\n",
       "      <th>0</th>\n",
       "      <td>1</td>\n",
       "      <td>4_64</td>\n",
       "      <td>4</td>\n",
       "      <td>64</td>\n",
       "    </tr>\n",
       "    <tr>\n",
       "      <th>1</th>\n",
       "      <td>2</td>\n",
       "      <td>6_128</td>\n",
       "      <td>6</td>\n",
       "      <td>128</td>\n",
       "    </tr>\n",
       "    <tr>\n",
       "      <th>2</th>\n",
       "      <td>3</td>\n",
       "      <td>3_32</td>\n",
       "      <td>3</td>\n",
       "      <td>32</td>\n",
       "    </tr>\n",
       "  </tbody>\n",
       "</table>\n",
       "</div>"
      ],
      "text/plain": [
       "   storage_id storage RAM  ROM\n",
       "0           1    4_64   4   64\n",
       "1           2   6_128   6  128\n",
       "2           3    3_32   3   32"
      ]
     },
     "execution_count": 39,
     "metadata": {},
     "output_type": "execute_result"
    }
   ],
   "source": [
    "storage_df.head(3)"
   ]
  },
  {
   "cell_type": "code",
   "execution_count": 40,
   "id": "3e040569",
   "metadata": {
    "scrolled": true
   },
   "outputs": [],
   "source": [
    "# Merging data with model_storage_df and then changing the original df 'data' to the obtained merged data\n",
    "data_with_storagetbl_mrg = data.merge(storage_df, on=\"storage\",sort=False)\n",
    "data = data_with_storagetbl_mrg.loc[::,['model_type_id', 'brand', 'model', 'color', 'main_colour_x', 'RAM_x',\n",
    "       'ROM_x', 'rating', 'selling_price', 'original_price', 'total_sales',\n",
    "       'storage', 'color_id', 'storage_id']]"
   ]
  },
  {
   "cell_type": "code",
   "execution_count": 41,
   "id": "6103a180",
   "metadata": {},
   "outputs": [
    {
     "data": {
      "text/html": [
       "<div>\n",
       "<style scoped>\n",
       "    .dataframe tbody tr th:only-of-type {\n",
       "        vertical-align: middle;\n",
       "    }\n",
       "\n",
       "    .dataframe tbody tr th {\n",
       "        vertical-align: top;\n",
       "    }\n",
       "\n",
       "    .dataframe thead th {\n",
       "        text-align: right;\n",
       "    }\n",
       "</style>\n",
       "<table border=\"1\" class=\"dataframe\">\n",
       "  <thead>\n",
       "    <tr style=\"text-align: right;\">\n",
       "      <th></th>\n",
       "      <th>model_type_id</th>\n",
       "      <th>brand</th>\n",
       "      <th>model</th>\n",
       "      <th>color</th>\n",
       "      <th>main_colour_x</th>\n",
       "      <th>RAM_x</th>\n",
       "      <th>ROM_x</th>\n",
       "      <th>rating</th>\n",
       "      <th>selling_price</th>\n",
       "      <th>original_price</th>\n",
       "      <th>total_sales</th>\n",
       "      <th>storage</th>\n",
       "      <th>color_id</th>\n",
       "      <th>storage_id</th>\n",
       "    </tr>\n",
       "  </thead>\n",
       "  <tbody>\n",
       "    <tr>\n",
       "      <th>0</th>\n",
       "      <td>1</td>\n",
       "      <td>OPPO</td>\n",
       "      <td>A53</td>\n",
       "      <td>Moonlight Black</td>\n",
       "      <td>black</td>\n",
       "      <td>4</td>\n",
       "      <td>64</td>\n",
       "      <td>4.5</td>\n",
       "      <td>11990</td>\n",
       "      <td>15990</td>\n",
       "      <td>1563</td>\n",
       "      <td>4_64</td>\n",
       "      <td>1</td>\n",
       "      <td>1</td>\n",
       "    </tr>\n",
       "    <tr>\n",
       "      <th>1</th>\n",
       "      <td>2</td>\n",
       "      <td>OPPO</td>\n",
       "      <td>A53</td>\n",
       "      <td>Mint Cream</td>\n",
       "      <td>others</td>\n",
       "      <td>4</td>\n",
       "      <td>64</td>\n",
       "      <td>4.5</td>\n",
       "      <td>11990</td>\n",
       "      <td>15990</td>\n",
       "      <td>4909</td>\n",
       "      <td>4_64</td>\n",
       "      <td>2</td>\n",
       "      <td>1</td>\n",
       "    </tr>\n",
       "    <tr>\n",
       "      <th>2</th>\n",
       "      <td>5</td>\n",
       "      <td>OPPO</td>\n",
       "      <td>A53</td>\n",
       "      <td>Electric Black</td>\n",
       "      <td>black</td>\n",
       "      <td>4</td>\n",
       "      <td>64</td>\n",
       "      <td>4.5</td>\n",
       "      <td>11990</td>\n",
       "      <td>15990</td>\n",
       "      <td>8837</td>\n",
       "      <td>4_64</td>\n",
       "      <td>3</td>\n",
       "      <td>1</td>\n",
       "    </tr>\n",
       "  </tbody>\n",
       "</table>\n",
       "</div>"
      ],
      "text/plain": [
       "   model_type_id brand model            color main_colour_x RAM_x ROM_x  \\\n",
       "0              1  OPPO   A53  Moonlight Black         black     4    64   \n",
       "1              2  OPPO   A53       Mint Cream        others     4    64   \n",
       "2              5  OPPO   A53   Electric Black         black     4    64   \n",
       "\n",
       "   rating  selling_price  original_price  total_sales storage  color_id  \\\n",
       "0     4.5          11990           15990         1563    4_64         1   \n",
       "1     4.5          11990           15990         4909    4_64         2   \n",
       "2     4.5          11990           15990         8837    4_64         3   \n",
       "\n",
       "   storage_id  \n",
       "0           1  \n",
       "1           1  \n",
       "2           1  "
      ]
     },
     "execution_count": 41,
     "metadata": {},
     "output_type": "execute_result"
    }
   ],
   "source": [
    "data.head(3)"
   ]
  },
  {
   "cell_type": "code",
   "execution_count": 42,
   "id": "989bc26a",
   "metadata": {
    "scrolled": true
   },
   "outputs": [
    {
     "data": {
      "text/html": [
       "<div>\n",
       "<style scoped>\n",
       "    .dataframe tbody tr th:only-of-type {\n",
       "        vertical-align: middle;\n",
       "    }\n",
       "\n",
       "    .dataframe tbody tr th {\n",
       "        vertical-align: top;\n",
       "    }\n",
       "\n",
       "    .dataframe thead th {\n",
       "        text-align: right;\n",
       "    }\n",
       "</style>\n",
       "<table border=\"1\" class=\"dataframe\">\n",
       "  <thead>\n",
       "    <tr style=\"text-align: right;\">\n",
       "      <th></th>\n",
       "      <th>rating_id</th>\n",
       "      <th>rating_desc</th>\n",
       "    </tr>\n",
       "  </thead>\n",
       "  <tbody>\n",
       "    <tr>\n",
       "      <th>0</th>\n",
       "      <td>1</td>\n",
       "      <td>poor</td>\n",
       "    </tr>\n",
       "    <tr>\n",
       "      <th>1</th>\n",
       "      <td>2</td>\n",
       "      <td>average</td>\n",
       "    </tr>\n",
       "    <tr>\n",
       "      <th>2</th>\n",
       "      <td>3</td>\n",
       "      <td>above-average</td>\n",
       "    </tr>\n",
       "    <tr>\n",
       "      <th>3</th>\n",
       "      <td>4</td>\n",
       "      <td>excellent</td>\n",
       "    </tr>\n",
       "  </tbody>\n",
       "</table>\n",
       "</div>"
      ],
      "text/plain": [
       "   rating_id    rating_desc\n",
       "0          1           poor\n",
       "1          2        average\n",
       "2          3  above-average\n",
       "3          4      excellent"
      ]
     },
     "execution_count": 42,
     "metadata": {},
     "output_type": "execute_result"
    }
   ],
   "source": [
    "# Creating new tabel(dataframe) rating_df with certain values directly inserted\n",
    "rating_df = pd.DataFrame({\n",
    "                         \"rating_id\" : [1,2,3,4],\n",
    "                         \"rating_desc\" : ['poor', 'average', 'above-average' ,'excellent']\n",
    "                        })\n",
    "rating_df"
   ]
  },
  {
   "cell_type": "code",
   "execution_count": 43,
   "id": "b0feecfa",
   "metadata": {
    "scrolled": true
   },
   "outputs": [
    {
     "data": {
      "text/html": [
       "<div>\n",
       "<style scoped>\n",
       "    .dataframe tbody tr th:only-of-type {\n",
       "        vertical-align: middle;\n",
       "    }\n",
       "\n",
       "    .dataframe tbody tr th {\n",
       "        vertical-align: top;\n",
       "    }\n",
       "\n",
       "    .dataframe thead th {\n",
       "        text-align: right;\n",
       "    }\n",
       "</style>\n",
       "<table border=\"1\" class=\"dataframe\">\n",
       "  <thead>\n",
       "    <tr style=\"text-align: right;\">\n",
       "      <th></th>\n",
       "      <th>model_type_id</th>\n",
       "      <th>brand</th>\n",
       "      <th>model</th>\n",
       "      <th>color</th>\n",
       "      <th>main_colour_x</th>\n",
       "      <th>RAM_x</th>\n",
       "      <th>ROM_x</th>\n",
       "      <th>rating</th>\n",
       "      <th>selling_price</th>\n",
       "      <th>original_price</th>\n",
       "      <th>total_sales</th>\n",
       "      <th>storage</th>\n",
       "      <th>color_id</th>\n",
       "      <th>storage_id</th>\n",
       "      <th>rating_id</th>\n",
       "    </tr>\n",
       "  </thead>\n",
       "  <tbody>\n",
       "    <tr>\n",
       "      <th>0</th>\n",
       "      <td>1</td>\n",
       "      <td>OPPO</td>\n",
       "      <td>A53</td>\n",
       "      <td>Moonlight Black</td>\n",
       "      <td>black</td>\n",
       "      <td>4</td>\n",
       "      <td>64</td>\n",
       "      <td>4.5</td>\n",
       "      <td>11990</td>\n",
       "      <td>15990</td>\n",
       "      <td>1563</td>\n",
       "      <td>4_64</td>\n",
       "      <td>1</td>\n",
       "      <td>1</td>\n",
       "      <td>4</td>\n",
       "    </tr>\n",
       "    <tr>\n",
       "      <th>1</th>\n",
       "      <td>2</td>\n",
       "      <td>OPPO</td>\n",
       "      <td>A53</td>\n",
       "      <td>Mint Cream</td>\n",
       "      <td>others</td>\n",
       "      <td>4</td>\n",
       "      <td>64</td>\n",
       "      <td>4.5</td>\n",
       "      <td>11990</td>\n",
       "      <td>15990</td>\n",
       "      <td>4909</td>\n",
       "      <td>4_64</td>\n",
       "      <td>2</td>\n",
       "      <td>1</td>\n",
       "      <td>4</td>\n",
       "    </tr>\n",
       "  </tbody>\n",
       "</table>\n",
       "</div>"
      ],
      "text/plain": [
       "   model_type_id brand model            color main_colour_x RAM_x ROM_x  \\\n",
       "0              1  OPPO   A53  Moonlight Black         black     4    64   \n",
       "1              2  OPPO   A53       Mint Cream        others     4    64   \n",
       "\n",
       "   rating  selling_price  original_price  total_sales storage  color_id  \\\n",
       "0     4.5          11990           15990         1563    4_64         1   \n",
       "1     4.5          11990           15990         4909    4_64         2   \n",
       "\n",
       "   storage_id  rating_id  \n",
       "0           1          4  \n",
       "1           1          4  "
      ]
     },
     "execution_count": 43,
     "metadata": {},
     "output_type": "execute_result"
    }
   ],
   "source": [
    "# Creating rating_id column and values within according to the rating of model given \n",
    "conditions = [(data['rating'] >=1) & (data['rating'] < 2),\n",
    "              (data['rating'] >=2) & (data['rating'] < 3),\n",
    "              (data['rating'] >=3) & (data['rating'] < 4),\n",
    "              (data['rating'] >=4) & (data['rating'] <= 5)]\n",
    "values = [1,2,3,4]\n",
    "data['rating_id'] = np.select(conditions,values)\n",
    "data.head(2)"
   ]
  },
  {
   "cell_type": "code",
   "execution_count": 44,
   "id": "28794c88",
   "metadata": {
    "scrolled": false
   },
   "outputs": [
    {
     "data": {
      "text/html": [
       "<div>\n",
       "<style scoped>\n",
       "    .dataframe tbody tr th:only-of-type {\n",
       "        vertical-align: middle;\n",
       "    }\n",
       "\n",
       "    .dataframe tbody tr th {\n",
       "        vertical-align: top;\n",
       "    }\n",
       "\n",
       "    .dataframe thead th {\n",
       "        text-align: right;\n",
       "    }\n",
       "</style>\n",
       "<table border=\"1\" class=\"dataframe\">\n",
       "  <thead>\n",
       "    <tr style=\"text-align: right;\">\n",
       "      <th></th>\n",
       "      <th>sl_no</th>\n",
       "      <th>model_type_id</th>\n",
       "      <th>color_id</th>\n",
       "    </tr>\n",
       "  </thead>\n",
       "  <tbody>\n",
       "    <tr>\n",
       "      <th>0</th>\n",
       "      <td>1</td>\n",
       "      <td>1</td>\n",
       "      <td>1</td>\n",
       "    </tr>\n",
       "    <tr>\n",
       "      <th>1</th>\n",
       "      <td>2</td>\n",
       "      <td>2</td>\n",
       "      <td>2</td>\n",
       "    </tr>\n",
       "    <tr>\n",
       "      <th>527</th>\n",
       "      <td>3</td>\n",
       "      <td>3</td>\n",
       "      <td>1</td>\n",
       "    </tr>\n",
       "    <tr>\n",
       "      <th>528</th>\n",
       "      <td>4</td>\n",
       "      <td>4</td>\n",
       "      <td>2</td>\n",
       "    </tr>\n",
       "    <tr>\n",
       "      <th>2</th>\n",
       "      <td>5</td>\n",
       "      <td>5</td>\n",
       "      <td>3</td>\n",
       "    </tr>\n",
       "  </tbody>\n",
       "</table>\n",
       "</div>"
      ],
      "text/plain": [
       "     sl_no  model_type_id  color_id\n",
       "0        1              1         1\n",
       "1        2              2         2\n",
       "527      3              3         1\n",
       "528      4              4         2\n",
       "2        5              5         3"
      ]
     },
     "execution_count": 44,
     "metadata": {},
     "output_type": "execute_result"
    }
   ],
   "source": [
    "# Filtering data and sorting values according to model_type_id and inserting new column  sl_no\n",
    "model_color_df = pd.DataFrame(data[[\"model_type_id\",\"color_id\"]])\n",
    "model_color_df.sort_values(by=\"model_type_id\",inplace=True)\n",
    "model_color_df.insert(0,\"sl_no\",range(1,len(model_color_df)+1))\n",
    "model_color_df.head()"
   ]
  },
  {
   "cell_type": "code",
   "execution_count": 45,
   "id": "81a9b146",
   "metadata": {
    "scrolled": true
   },
   "outputs": [
    {
     "data": {
      "text/html": [
       "<div>\n",
       "<style scoped>\n",
       "    .dataframe tbody tr th:only-of-type {\n",
       "        vertical-align: middle;\n",
       "    }\n",
       "\n",
       "    .dataframe tbody tr th {\n",
       "        vertical-align: top;\n",
       "    }\n",
       "\n",
       "    .dataframe thead th {\n",
       "        text-align: right;\n",
       "    }\n",
       "</style>\n",
       "<table border=\"1\" class=\"dataframe\">\n",
       "  <thead>\n",
       "    <tr style=\"text-align: right;\">\n",
       "      <th></th>\n",
       "      <th>sl_no</th>\n",
       "      <th>model_type_id</th>\n",
       "      <th>storage_id</th>\n",
       "    </tr>\n",
       "  </thead>\n",
       "  <tbody>\n",
       "    <tr>\n",
       "      <th>0</th>\n",
       "      <td>1</td>\n",
       "      <td>1</td>\n",
       "      <td>1</td>\n",
       "    </tr>\n",
       "    <tr>\n",
       "      <th>1</th>\n",
       "      <td>2</td>\n",
       "      <td>2</td>\n",
       "      <td>1</td>\n",
       "    </tr>\n",
       "    <tr>\n",
       "      <th>527</th>\n",
       "      <td>3</td>\n",
       "      <td>3</td>\n",
       "      <td>2</td>\n",
       "    </tr>\n",
       "  </tbody>\n",
       "</table>\n",
       "</div>"
      ],
      "text/plain": [
       "     sl_no  model_type_id  storage_id\n",
       "0        1              1           1\n",
       "1        2              2           1\n",
       "527      3              3           2"
      ]
     },
     "execution_count": 45,
     "metadata": {},
     "output_type": "execute_result"
    }
   ],
   "source": [
    "# Inserting new column sl_no and creating dataframe with given columns as data by filtering out\n",
    "model_storage_df = pd.DataFrame(data[[\"model_type_id\",\"storage_id\"]])\n",
    "model_storage_df.sort_values(by=\"model_type_id\",inplace=True)\n",
    "model_storage_df.insert(0,\"sl_no\",range(1,len(model_storage_df)+1))\n",
    "model_storage_df.head(3)"
   ]
  },
  {
   "cell_type": "code",
   "execution_count": 46,
   "id": "4a13c599",
   "metadata": {
    "scrolled": true
   },
   "outputs": [
    {
     "data": {
      "text/html": [
       "<div>\n",
       "<style scoped>\n",
       "    .dataframe tbody tr th:only-of-type {\n",
       "        vertical-align: middle;\n",
       "    }\n",
       "\n",
       "    .dataframe tbody tr th {\n",
       "        vertical-align: top;\n",
       "    }\n",
       "\n",
       "    .dataframe thead th {\n",
       "        text-align: right;\n",
       "    }\n",
       "</style>\n",
       "<table border=\"1\" class=\"dataframe\">\n",
       "  <thead>\n",
       "    <tr style=\"text-align: right;\">\n",
       "      <th></th>\n",
       "      <th>sl_no</th>\n",
       "      <th>model_type_id</th>\n",
       "      <th>rating</th>\n",
       "      <th>rating_id</th>\n",
       "    </tr>\n",
       "  </thead>\n",
       "  <tbody>\n",
       "    <tr>\n",
       "      <th>0</th>\n",
       "      <td>1</td>\n",
       "      <td>1</td>\n",
       "      <td>4.5</td>\n",
       "      <td>4</td>\n",
       "    </tr>\n",
       "    <tr>\n",
       "      <th>1</th>\n",
       "      <td>2</td>\n",
       "      <td>2</td>\n",
       "      <td>4.5</td>\n",
       "      <td>4</td>\n",
       "    </tr>\n",
       "    <tr>\n",
       "      <th>527</th>\n",
       "      <td>3</td>\n",
       "      <td>3</td>\n",
       "      <td>4.3</td>\n",
       "      <td>4</td>\n",
       "    </tr>\n",
       "  </tbody>\n",
       "</table>\n",
       "</div>"
      ],
      "text/plain": [
       "     sl_no  model_type_id  rating  rating_id\n",
       "0        1              1     4.5          4\n",
       "1        2              2     4.5          4\n",
       "527      3              3     4.3          4"
      ]
     },
     "execution_count": 46,
     "metadata": {},
     "output_type": "execute_result"
    }
   ],
   "source": [
    "# Creating new dataframe model_rating_df and new colum,n sl_no and sorting the rows on model_type_id\n",
    "model_rating_df = pd.DataFrame(data[[\"model_type_id\",\"rating\",\"rating_id\"]])\n",
    "model_rating_df.sort_values(by=\"model_type_id\",inplace=True)\n",
    "model_rating_df.insert(0,\"sl_no\",range(1,len(model_rating_df)+1))\n",
    "model_rating_df.head(3)"
   ]
  },
  {
   "cell_type": "code",
   "execution_count": 47,
   "id": "5a4ad71d",
   "metadata": {
    "scrolled": false
   },
   "outputs": [
    {
     "data": {
      "text/html": [
       "<div>\n",
       "<style scoped>\n",
       "    .dataframe tbody tr th:only-of-type {\n",
       "        vertical-align: middle;\n",
       "    }\n",
       "\n",
       "    .dataframe tbody tr th {\n",
       "        vertical-align: top;\n",
       "    }\n",
       "\n",
       "    .dataframe thead th {\n",
       "        text-align: right;\n",
       "    }\n",
       "</style>\n",
       "<table border=\"1\" class=\"dataframe\">\n",
       "  <thead>\n",
       "    <tr style=\"text-align: right;\">\n",
       "      <th></th>\n",
       "      <th>model_type_id</th>\n",
       "      <th>total_sales</th>\n",
       "      <th>original_price</th>\n",
       "      <th>selling_price</th>\n",
       "    </tr>\n",
       "  </thead>\n",
       "  <tbody>\n",
       "    <tr>\n",
       "      <th>0</th>\n",
       "      <td>1</td>\n",
       "      <td>1563</td>\n",
       "      <td>15990</td>\n",
       "      <td>11990</td>\n",
       "    </tr>\n",
       "    <tr>\n",
       "      <th>1</th>\n",
       "      <td>2</td>\n",
       "      <td>4909</td>\n",
       "      <td>15990</td>\n",
       "      <td>11990</td>\n",
       "    </tr>\n",
       "    <tr>\n",
       "      <th>527</th>\n",
       "      <td>3</td>\n",
       "      <td>701</td>\n",
       "      <td>17990</td>\n",
       "      <td>13990</td>\n",
       "    </tr>\n",
       "  </tbody>\n",
       "</table>\n",
       "</div>"
      ],
      "text/plain": [
       "     model_type_id  total_sales  original_price  selling_price\n",
       "0                1         1563           15990          11990\n",
       "1                2         4909           15990          11990\n",
       "527              3          701           17990          13990"
      ]
     },
     "execution_count": 47,
     "metadata": {},
     "output_type": "execute_result"
    }
   ],
   "source": [
    "# Creating new dataframe mobile_sales_df and sorting the rows on model_type_df\n",
    "mobile_sales_df = pd.DataFrame(data[[\"model_type_id\",\"total_sales\",\"original_price\",\"selling_price\"]])\n",
    "mobile_sales_df.sort_values(by=\"model_type_id\",inplace=True)\n",
    "mobile_sales_df.head(3)"
   ]
  },
  {
   "cell_type": "code",
   "execution_count": 48,
   "id": "2f0281f1",
   "metadata": {},
   "outputs": [
    {
     "data": {
      "text/html": [
       "<div>\n",
       "<style scoped>\n",
       "    .dataframe tbody tr th:only-of-type {\n",
       "        vertical-align: middle;\n",
       "    }\n",
       "\n",
       "    .dataframe tbody tr th {\n",
       "        vertical-align: top;\n",
       "    }\n",
       "\n",
       "    .dataframe thead th {\n",
       "        text-align: right;\n",
       "    }\n",
       "</style>\n",
       "<table border=\"1\" class=\"dataframe\">\n",
       "  <thead>\n",
       "    <tr style=\"text-align: right;\">\n",
       "      <th></th>\n",
       "      <th>model_type_id</th>\n",
       "      <th>brand</th>\n",
       "      <th>model</th>\n",
       "      <th>color</th>\n",
       "      <th>main_colour_x</th>\n",
       "      <th>RAM_x</th>\n",
       "      <th>ROM_x</th>\n",
       "      <th>rating</th>\n",
       "      <th>selling_price</th>\n",
       "      <th>original_price</th>\n",
       "      <th>total_sales</th>\n",
       "      <th>storage</th>\n",
       "      <th>color_id</th>\n",
       "      <th>storage_id</th>\n",
       "      <th>rating_id</th>\n",
       "    </tr>\n",
       "  </thead>\n",
       "  <tbody>\n",
       "    <tr>\n",
       "      <th>0</th>\n",
       "      <td>1</td>\n",
       "      <td>OPPO</td>\n",
       "      <td>A53</td>\n",
       "      <td>Moonlight Black</td>\n",
       "      <td>black</td>\n",
       "      <td>4</td>\n",
       "      <td>64</td>\n",
       "      <td>4.5</td>\n",
       "      <td>11990</td>\n",
       "      <td>15990</td>\n",
       "      <td>1563</td>\n",
       "      <td>4_64</td>\n",
       "      <td>1</td>\n",
       "      <td>1</td>\n",
       "      <td>4</td>\n",
       "    </tr>\n",
       "    <tr>\n",
       "      <th>1</th>\n",
       "      <td>2</td>\n",
       "      <td>OPPO</td>\n",
       "      <td>A53</td>\n",
       "      <td>Mint Cream</td>\n",
       "      <td>others</td>\n",
       "      <td>4</td>\n",
       "      <td>64</td>\n",
       "      <td>4.5</td>\n",
       "      <td>11990</td>\n",
       "      <td>15990</td>\n",
       "      <td>4909</td>\n",
       "      <td>4_64</td>\n",
       "      <td>2</td>\n",
       "      <td>1</td>\n",
       "      <td>4</td>\n",
       "    </tr>\n",
       "    <tr>\n",
       "      <th>2</th>\n",
       "      <td>5</td>\n",
       "      <td>OPPO</td>\n",
       "      <td>A53</td>\n",
       "      <td>Electric Black</td>\n",
       "      <td>black</td>\n",
       "      <td>4</td>\n",
       "      <td>64</td>\n",
       "      <td>4.5</td>\n",
       "      <td>11990</td>\n",
       "      <td>15990</td>\n",
       "      <td>8837</td>\n",
       "      <td>4_64</td>\n",
       "      <td>3</td>\n",
       "      <td>1</td>\n",
       "      <td>4</td>\n",
       "    </tr>\n",
       "  </tbody>\n",
       "</table>\n",
       "</div>"
      ],
      "text/plain": [
       "   model_type_id brand model            color main_colour_x RAM_x ROM_x  \\\n",
       "0              1  OPPO   A53  Moonlight Black         black     4    64   \n",
       "1              2  OPPO   A53       Mint Cream        others     4    64   \n",
       "2              5  OPPO   A53   Electric Black         black     4    64   \n",
       "\n",
       "   rating  selling_price  original_price  total_sales storage  color_id  \\\n",
       "0     4.5          11990           15990         1563    4_64         1   \n",
       "1     4.5          11990           15990         4909    4_64         2   \n",
       "2     4.5          11990           15990         8837    4_64         3   \n",
       "\n",
       "   storage_id  rating_id  \n",
       "0           1          4  \n",
       "1           1          4  \n",
       "2           1          4  "
      ]
     },
     "execution_count": 48,
     "metadata": {},
     "output_type": "execute_result"
    }
   ],
   "source": [
    "data.head(3)"
   ]
  },
  {
   "cell_type": "code",
   "execution_count": 49,
   "id": "f77686c0",
   "metadata": {},
   "outputs": [],
   "source": [
    "model_type_df = data.loc[::,['brand','model','color_id','storage_id']]"
   ]
  },
  {
   "cell_type": "code",
   "execution_count": 50,
   "id": "8cd9fe43",
   "metadata": {
    "scrolled": true
   },
   "outputs": [
    {
     "data": {
      "text/html": [
       "<div>\n",
       "<style scoped>\n",
       "    .dataframe tbody tr th:only-of-type {\n",
       "        vertical-align: middle;\n",
       "    }\n",
       "\n",
       "    .dataframe tbody tr th {\n",
       "        vertical-align: top;\n",
       "    }\n",
       "\n",
       "    .dataframe thead th {\n",
       "        text-align: right;\n",
       "    }\n",
       "</style>\n",
       "<table border=\"1\" class=\"dataframe\">\n",
       "  <thead>\n",
       "    <tr style=\"text-align: right;\">\n",
       "      <th></th>\n",
       "      <th>brand</th>\n",
       "      <th>model</th>\n",
       "      <th>color_id</th>\n",
       "      <th>storage_id</th>\n",
       "    </tr>\n",
       "  </thead>\n",
       "  <tbody>\n",
       "    <tr>\n",
       "      <th>0</th>\n",
       "      <td>OPPO</td>\n",
       "      <td>A53</td>\n",
       "      <td>1</td>\n",
       "      <td>1</td>\n",
       "    </tr>\n",
       "    <tr>\n",
       "      <th>1</th>\n",
       "      <td>OPPO</td>\n",
       "      <td>A53</td>\n",
       "      <td>2</td>\n",
       "      <td>1</td>\n",
       "    </tr>\n",
       "    <tr>\n",
       "      <th>2</th>\n",
       "      <td>OPPO</td>\n",
       "      <td>A53</td>\n",
       "      <td>3</td>\n",
       "      <td>1</td>\n",
       "    </tr>\n",
       "  </tbody>\n",
       "</table>\n",
       "</div>"
      ],
      "text/plain": [
       "  brand model  color_id  storage_id\n",
       "0  OPPO   A53         1           1\n",
       "1  OPPO   A53         2           1\n",
       "2  OPPO   A53         3           1"
      ]
     },
     "execution_count": 50,
     "metadata": {},
     "output_type": "execute_result"
    }
   ],
   "source": [
    "model_type_df.head(3)"
   ]
  },
  {
   "cell_type": "code",
   "execution_count": 51,
   "id": "fbb3168a",
   "metadata": {},
   "outputs": [
    {
     "data": {
      "text/plain": [
       "brand         2602\n",
       "model         2602\n",
       "color_id      2602\n",
       "storage_id    2602\n",
       "dtype: int64"
      ]
     },
     "execution_count": 51,
     "metadata": {},
     "output_type": "execute_result"
    }
   ],
   "source": [
    "model_type_df.count()"
   ]
  },
  {
   "cell_type": "code",
   "execution_count": 52,
   "id": "9b001f2a",
   "metadata": {},
   "outputs": [
    {
     "data": {
      "text/plain": [
       "sl_no            2602\n",
       "model_type_id    2602\n",
       "rating           2602\n",
       "rating_id        2602\n",
       "dtype: int64"
      ]
     },
     "execution_count": 52,
     "metadata": {},
     "output_type": "execute_result"
    }
   ],
   "source": [
    "model_rating_df.count()"
   ]
  },
  {
   "cell_type": "code",
   "execution_count": 54,
   "id": "0fe59682",
   "metadata": {},
   "outputs": [],
   "source": [
    "model_rating_df = model_rating_df.iloc[::,1::]"
   ]
  },
  {
   "cell_type": "code",
   "execution_count": 55,
   "id": "499604f2",
   "metadata": {},
   "outputs": [
    {
     "data": {
      "text/html": [
       "<div>\n",
       "<style scoped>\n",
       "    .dataframe tbody tr th:only-of-type {\n",
       "        vertical-align: middle;\n",
       "    }\n",
       "\n",
       "    .dataframe tbody tr th {\n",
       "        vertical-align: top;\n",
       "    }\n",
       "\n",
       "    .dataframe thead th {\n",
       "        text-align: right;\n",
       "    }\n",
       "</style>\n",
       "<table border=\"1\" class=\"dataframe\">\n",
       "  <thead>\n",
       "    <tr style=\"text-align: right;\">\n",
       "      <th></th>\n",
       "      <th>model_type_id</th>\n",
       "      <th>rating</th>\n",
       "      <th>rating_id</th>\n",
       "    </tr>\n",
       "  </thead>\n",
       "  <tbody>\n",
       "    <tr>\n",
       "      <th>0</th>\n",
       "      <td>1</td>\n",
       "      <td>4.5</td>\n",
       "      <td>4</td>\n",
       "    </tr>\n",
       "    <tr>\n",
       "      <th>1</th>\n",
       "      <td>2</td>\n",
       "      <td>4.5</td>\n",
       "      <td>4</td>\n",
       "    </tr>\n",
       "  </tbody>\n",
       "</table>\n",
       "</div>"
      ],
      "text/plain": [
       "   model_type_id  rating  rating_id\n",
       "0              1     4.5          4\n",
       "1              2     4.5          4"
      ]
     },
     "execution_count": 55,
     "metadata": {},
     "output_type": "execute_result"
    }
   ],
   "source": [
    "model_rating_df.head(2)"
   ]
  },
  {
   "cell_type": "code",
   "execution_count": 67,
   "id": "2423f027",
   "metadata": {},
   "outputs": [
    {
     "data": {
      "text/html": [
       "<div>\n",
       "<style scoped>\n",
       "    .dataframe tbody tr th:only-of-type {\n",
       "        vertical-align: middle;\n",
       "    }\n",
       "\n",
       "    .dataframe tbody tr th {\n",
       "        vertical-align: top;\n",
       "    }\n",
       "\n",
       "    .dataframe thead th {\n",
       "        text-align: right;\n",
       "    }\n",
       "</style>\n",
       "<table border=\"1\" class=\"dataframe\">\n",
       "  <thead>\n",
       "    <tr style=\"text-align: right;\">\n",
       "      <th></th>\n",
       "      <th>rating_desc</th>\n",
       "    </tr>\n",
       "  </thead>\n",
       "  <tbody>\n",
       "    <tr>\n",
       "      <th>0</th>\n",
       "      <td>poor</td>\n",
       "    </tr>\n",
       "    <tr>\n",
       "      <th>1</th>\n",
       "      <td>average</td>\n",
       "    </tr>\n",
       "  </tbody>\n",
       "</table>\n",
       "</div>"
      ],
      "text/plain": [
       "  rating_desc\n",
       "0        poor\n",
       "1     average"
      ]
     },
     "execution_count": 67,
     "metadata": {},
     "output_type": "execute_result"
    }
   ],
   "source": [
    "rating_df = rating_df.iloc[::,1::]\n",
    "rating_df.head(2)"
   ]
  },
  {
   "cell_type": "code",
   "execution_count": 57,
   "id": "19e7da20",
   "metadata": {},
   "outputs": [
    {
     "data": {
      "text/plain": [
       "rating_id      4\n",
       "rating_desc    4\n",
       "dtype: int64"
      ]
     },
     "execution_count": 57,
     "metadata": {},
     "output_type": "execute_result"
    }
   ],
   "source": [
    "rating_df.count()"
   ]
  },
  {
   "cell_type": "code",
   "execution_count": 65,
   "id": "1e163a3f",
   "metadata": {},
   "outputs": [
    {
     "data": {
      "text/html": [
       "<div>\n",
       "<style scoped>\n",
       "    .dataframe tbody tr th:only-of-type {\n",
       "        vertical-align: middle;\n",
       "    }\n",
       "\n",
       "    .dataframe tbody tr th {\n",
       "        vertical-align: top;\n",
       "    }\n",
       "\n",
       "    .dataframe thead th {\n",
       "        text-align: right;\n",
       "    }\n",
       "</style>\n",
       "<table border=\"1\" class=\"dataframe\">\n",
       "  <thead>\n",
       "    <tr style=\"text-align: right;\">\n",
       "      <th></th>\n",
       "      <th>color</th>\n",
       "      <th>main_colour</th>\n",
       "    </tr>\n",
       "  </thead>\n",
       "  <tbody>\n",
       "    <tr>\n",
       "      <th>0</th>\n",
       "      <td>Moonlight Black</td>\n",
       "      <td>black</td>\n",
       "    </tr>\n",
       "    <tr>\n",
       "      <th>1</th>\n",
       "      <td>Mint Cream</td>\n",
       "      <td>others</td>\n",
       "    </tr>\n",
       "    <tr>\n",
       "      <th>4</th>\n",
       "      <td>Electric Black</td>\n",
       "      <td>black</td>\n",
       "    </tr>\n",
       "  </tbody>\n",
       "</table>\n",
       "</div>"
      ],
      "text/plain": [
       "             color main_colour\n",
       "0  Moonlight Black       black\n",
       "1       Mint Cream      others\n",
       "4   Electric Black       black"
      ]
     },
     "execution_count": 65,
     "metadata": {},
     "output_type": "execute_result"
    }
   ],
   "source": [
    "color_df = color_df.iloc[::,1::]\n",
    "color_df.head(3)"
   ]
  },
  {
   "cell_type": "code",
   "execution_count": 59,
   "id": "8c799bdd",
   "metadata": {},
   "outputs": [
    {
     "data": {
      "text/plain": [
       "(0,\n",
       " color_id       617\n",
       " color          617\n",
       " main_colour    617\n",
       " dtype: int64)"
      ]
     },
     "execution_count": 59,
     "metadata": {},
     "output_type": "execute_result"
    }
   ],
   "source": [
    "color_df.duplicated().sum() , color_df.count()"
   ]
  },
  {
   "cell_type": "code",
   "execution_count": 60,
   "id": "3b3ee6c1",
   "metadata": {},
   "outputs": [
    {
     "data": {
      "text/html": [
       "<div>\n",
       "<style scoped>\n",
       "    .dataframe tbody tr th:only-of-type {\n",
       "        vertical-align: middle;\n",
       "    }\n",
       "\n",
       "    .dataframe tbody tr th {\n",
       "        vertical-align: top;\n",
       "    }\n",
       "\n",
       "    .dataframe thead th {\n",
       "        text-align: right;\n",
       "    }\n",
       "</style>\n",
       "<table border=\"1\" class=\"dataframe\">\n",
       "  <thead>\n",
       "    <tr style=\"text-align: right;\">\n",
       "      <th></th>\n",
       "      <th>model_type_id</th>\n",
       "      <th>total_sales</th>\n",
       "      <th>original_price</th>\n",
       "      <th>selling_price</th>\n",
       "    </tr>\n",
       "  </thead>\n",
       "  <tbody>\n",
       "    <tr>\n",
       "      <th>0</th>\n",
       "      <td>1</td>\n",
       "      <td>1563</td>\n",
       "      <td>15990</td>\n",
       "      <td>11990</td>\n",
       "    </tr>\n",
       "    <tr>\n",
       "      <th>1</th>\n",
       "      <td>2</td>\n",
       "      <td>4909</td>\n",
       "      <td>15990</td>\n",
       "      <td>11990</td>\n",
       "    </tr>\n",
       "  </tbody>\n",
       "</table>\n",
       "</div>"
      ],
      "text/plain": [
       "   model_type_id  total_sales  original_price  selling_price\n",
       "0              1         1563           15990          11990\n",
       "1              2         4909           15990          11990"
      ]
     },
     "execution_count": 60,
     "metadata": {},
     "output_type": "execute_result"
    }
   ],
   "source": [
    "mobile_sales_df.head(2)"
   ]
  },
  {
   "cell_type": "code",
   "execution_count": 61,
   "id": "23ee4f19",
   "metadata": {},
   "outputs": [
    {
     "data": {
      "text/plain": [
       "(model_type_id     2602\n",
       " total_sales       2602\n",
       " original_price    2602\n",
       " selling_price     2602\n",
       " dtype: int64,\n",
       " 0)"
      ]
     },
     "execution_count": 61,
     "metadata": {},
     "output_type": "execute_result"
    }
   ],
   "source": [
    "mobile_sales_df.count() , mobile_sales_df.duplicated().sum()"
   ]
  },
  {
   "cell_type": "code",
   "execution_count": 62,
   "id": "0242f918",
   "metadata": {},
   "outputs": [
    {
     "data": {
      "text/html": [
       "<div>\n",
       "<style scoped>\n",
       "    .dataframe tbody tr th:only-of-type {\n",
       "        vertical-align: middle;\n",
       "    }\n",
       "\n",
       "    .dataframe tbody tr th {\n",
       "        vertical-align: top;\n",
       "    }\n",
       "\n",
       "    .dataframe thead th {\n",
       "        text-align: right;\n",
       "    }\n",
       "</style>\n",
       "<table border=\"1\" class=\"dataframe\">\n",
       "  <thead>\n",
       "    <tr style=\"text-align: right;\">\n",
       "      <th></th>\n",
       "      <th>storage_id</th>\n",
       "      <th>storage</th>\n",
       "      <th>RAM</th>\n",
       "      <th>ROM</th>\n",
       "    </tr>\n",
       "  </thead>\n",
       "  <tbody>\n",
       "    <tr>\n",
       "      <th>0</th>\n",
       "      <td>1</td>\n",
       "      <td>4_64</td>\n",
       "      <td>4</td>\n",
       "      <td>64</td>\n",
       "    </tr>\n",
       "    <tr>\n",
       "      <th>1</th>\n",
       "      <td>2</td>\n",
       "      <td>6_128</td>\n",
       "      <td>6</td>\n",
       "      <td>128</td>\n",
       "    </tr>\n",
       "  </tbody>\n",
       "</table>\n",
       "</div>"
      ],
      "text/plain": [
       "   storage_id storage RAM  ROM\n",
       "0           1    4_64   4   64\n",
       "1           2   6_128   6  128"
      ]
     },
     "execution_count": 62,
     "metadata": {},
     "output_type": "execute_result"
    }
   ],
   "source": [
    "storage_df.head(2)"
   ]
  },
  {
   "cell_type": "code",
   "execution_count": 63,
   "id": "a0954547",
   "metadata": {},
   "outputs": [],
   "source": [
    "storage_df = storage_df.loc[::,['storage_id','RAM','ROM']]"
   ]
  },
  {
   "cell_type": "code",
   "execution_count": 66,
   "id": "d1d3c621",
   "metadata": {},
   "outputs": [
    {
     "data": {
      "text/html": [
       "<div>\n",
       "<style scoped>\n",
       "    .dataframe tbody tr th:only-of-type {\n",
       "        vertical-align: middle;\n",
       "    }\n",
       "\n",
       "    .dataframe tbody tr th {\n",
       "        vertical-align: top;\n",
       "    }\n",
       "\n",
       "    .dataframe thead th {\n",
       "        text-align: right;\n",
       "    }\n",
       "</style>\n",
       "<table border=\"1\" class=\"dataframe\">\n",
       "  <thead>\n",
       "    <tr style=\"text-align: right;\">\n",
       "      <th></th>\n",
       "      <th>RAM</th>\n",
       "      <th>ROM</th>\n",
       "    </tr>\n",
       "  </thead>\n",
       "  <tbody>\n",
       "    <tr>\n",
       "      <th>0</th>\n",
       "      <td>4</td>\n",
       "      <td>64</td>\n",
       "    </tr>\n",
       "    <tr>\n",
       "      <th>1</th>\n",
       "      <td>6</td>\n",
       "      <td>128</td>\n",
       "    </tr>\n",
       "  </tbody>\n",
       "</table>\n",
       "</div>"
      ],
      "text/plain": [
       "  RAM  ROM\n",
       "0   4   64\n",
       "1   6  128"
      ]
     },
     "execution_count": 66,
     "metadata": {},
     "output_type": "execute_result"
    }
   ],
   "source": [
    "storage_df = storage_df.iloc[::,1::]\n",
    "storage_df.head(2)"
   ]
  },
  {
   "attachments": {},
   "cell_type": "markdown",
   "id": "01efd635",
   "metadata": {},
   "source": [
    "#### Converting the dataframe to CSV files without indexes and headers for further database building process"
   ]
  },
  {
   "cell_type": "code",
   "execution_count": 69,
   "id": "6d223258",
   "metadata": {
    "scrolled": true
   },
   "outputs": [],
   "source": [
    "mobile_sales_df.to_csv(\"C:\\\\Users\\\\kumar\\\\Downloads\\\\mobile_dfcsv_values\\\\mobile_sales_csv.csv\",index=False,header=False)\n",
    "model_rating_df.to_csv(\"C:\\\\Users\\\\kumar\\\\Downloads\\\\mobile_dfcsv_values\\\\model_rating_csv.csv\",index=False,header=False)\n",
    "rating_df.to_csv(\"C:\\\\Users\\\\kumar\\\\Downloads\\\\mobile_dfcsv_values\\\\rating_csv.csv\",index=False,header=False)\n",
    "storage_df.to_csv(\"C:\\\\Users\\\\kumar\\\\Downloads\\\\mobile_dfcsv_values\\\\storage_csv.csv\",index=False,header=False)\n",
    "color_df.to_csv(\"C:\\\\Users\\\\kumar\\\\Downloads\\\\mobile_dfcsv_values\\\\color_csv.csv\",index=False,header=False)\n",
    "model_type_df.to_csv(\"C:\\\\Users\\\\kumar\\\\Downloads\\\\mobile_dfcsv_values\\\\model_type_csv.csv\",index=False,header=False)"
   ]
  },
  {
   "cell_type": "code",
   "execution_count": null,
   "id": "482036ad",
   "metadata": {
    "scrolled": true
   },
   "outputs": [],
   "source": []
  }
 ],
 "metadata": {
  "kernelspec": {
   "display_name": "Python 3",
   "language": "python",
   "name": "python3"
  },
  "language_info": {
   "codemirror_mode": {
    "name": "ipython",
    "version": 3
   },
   "file_extension": ".py",
   "mimetype": "text/x-python",
   "name": "python",
   "nbconvert_exporter": "python",
   "pygments_lexer": "ipython3",
   "version": "3.11.0"
  },
  "vscode": {
   "interpreter": {
    "hash": "41cec28fd681075328d5c3ce57c3e36d2e28950cd4b5df3e126fcfc4cca87be8"
   }
  }
 },
 "nbformat": 4,
 "nbformat_minor": 5
}
