{
 "cells": [
  {
   "attachments": {},
   "cell_type": "markdown",
   "metadata": {},
   "source": [
    "#### Import necessary libraries for connecting MYSQL with Python "
   ]
  },
  {
   "cell_type": "code",
   "execution_count": 2,
   "metadata": {},
   "outputs": [],
   "source": [
    "import mysql.connector\n",
    "import csv"
   ]
  },
  {
   "cell_type": "code",
   "execution_count": 2,
   "metadata": {},
   "outputs": [],
   "source": [
    "# Creating initial connection with mysql server\n",
    "conn = mysql.connector.connect(\n",
    "                              host= \"127.0.0.1\",\n",
    "                              port = int(3306),\n",
    "                              user =\"root\",\n",
    "                              passwd = \"112233\"\n",
    "                              )"
   ]
  },
  {
   "cell_type": "code",
   "execution_count": 3,
   "metadata": {},
   "outputs": [],
   "source": [
    "# Creating cursor for initial connection i.e conn\n",
    "mycursor1 = conn.cursor()"
   ]
  },
  {
   "cell_type": "code",
   "execution_count": 4,
   "metadata": {},
   "outputs": [],
   "source": [
    "# Creating database with CREATE statement and iterationg through cursor \n",
    "mycursor1.execute(\"CREATE DATABASE mobilenewdb\")\n",
    "for i in mycursor1:\n",
    "    print(i)"
   ]
  },
  {
   "attachments": {},
   "cell_type": "markdown",
   "metadata": {},
   "source": [
    "#### Creating main connection with the database \"mobilenewdb\""
   ]
  },
  {
   "cell_type": "code",
   "execution_count": 4,
   "metadata": {},
   "outputs": [],
   "source": [
    "\n",
    "myconn = mysql.connector.connect(\n",
    "                              host= \"127.0.0.1\",\n",
    "                              port = int(3306),\n",
    "                              user =\"root\",\n",
    "                              passwd = \"112233\",\n",
    "                              database = \"mobilenewdb\"\n",
    "                              )"
   ]
  },
  {
   "cell_type": "code",
   "execution_count": 6,
   "metadata": {},
   "outputs": [],
   "source": [
    "# Creating cursor for main connection \n",
    "mycursor = myconn.cursor()"
   ]
  },
  {
   "attachments": {},
   "cell_type": "markdown",
   "metadata": {},
   "source": [
    "#### Existing databases in the mysql connection server"
   ]
  },
  {
   "cell_type": "code",
   "execution_count": 7,
   "metadata": {},
   "outputs": [
    {
     "name": "stdout",
     "output_type": "stream",
     "text": [
      "('information_schema',)\n",
      "('mobilenewdb',)\n",
      "('mysql',)\n",
      "('performance_schema',)\n",
      "('sakila',)\n",
      "('sys',)\n",
      "('world',)\n"
     ]
    },
    {
     "data": {
      "text/plain": [
       "True"
      ]
     },
     "execution_count": 7,
     "metadata": {},
     "output_type": "execute_result"
    }
   ],
   "source": [
    "mycursor.execute(\"SHOW DATABASES\")\n",
    "\n",
    "for db in mycursor:\n",
    "    print(db)\n",
    "    \n",
    "mycursor.close()"
   ]
  },
  {
   "attachments": {},
   "cell_type": "markdown",
   "metadata": {},
   "source": [
    "#### Creating table creation queries and assigning variables for each"
   ]
  },
  {
   "cell_type": "code",
   "execution_count": 8,
   "metadata": {},
   "outputs": [],
   "source": [
    "table1_query = '''CREATE TABLE model_type\n",
    "                (\n",
    "                model_type_id INT AUTO_INCREMENT NOT NULL ,\n",
    "                brand_name VARCHAR(20) ,\n",
    "                model_name VARCHAR(50) ,\n",
    "                color_id INT ,\n",
    "                storage_id INT ,\n",
    "                PRIMARY KEY (model_type_id) \n",
    "                )\n",
    "                '''\n",
    "        \n",
    "table2_query = '''CREATE TABLE mobile_sales\n",
    "                (\n",
    "                sl_no INT AUTO_INCREMENT NOT NULL ,\n",
    "                model_type_id INT NOT NULL , \n",
    "                total_sales BIGINT ,\n",
    "                original_price BIGINT , \n",
    "                selling_price BIGINT ,\n",
    "                PRIMARY KEY (sl_no) \n",
    "                )\n",
    "                '''\n",
    "\n",
    "table3_query = '''CREATE TABLE storage \n",
    "                (\n",
    "                storage_id INT AUTO_INCREMENT NOT NULL ,\n",
    "                ram INT ,\n",
    "                rom INT ,\n",
    "                PRIMARY KEY (storage_id) \n",
    "                )\n",
    "                '''\n",
    "        \n",
    "                                            \n",
    "table4_query = '''CREATE TABLE color\n",
    "                (\n",
    "                color_id INT AUTO_INCREMENT NOT NULL ,\n",
    "                color_name VARCHAR(50) NOT NULL ,\n",
    "                main_color_name VARCHAR(10) ,\n",
    "                PRIMARY KEY (color_id) \n",
    "                )\n",
    "                '''\n",
    "        \n",
    "        \n",
    "table5_query = '''CREATE TABLE rating\n",
    "                (\n",
    "                rating_id INT AUTO_INCREMENT NOT NULL ,\n",
    "                rating_description VARCHAR(20) ,\n",
    "                PRIMARY KEY (rating_id)                                         \n",
    "                )\n",
    "                '''\n",
    "        \n",
    "table6_query = '''CREATE TABLE model_rating\n",
    "                (\n",
    "                sl_id INT AUTO_INCREMENT NOT NULL ,\n",
    "                model_type_id INT , \n",
    "                rating_id INT ,\n",
    "                rating DECIMAL(2,1) ,\n",
    "                PRIMARY KEY (sl_id) \n",
    "                )\n",
    "                '''"
   ]
  },
  {
   "cell_type": "code",
   "execution_count": 9,
   "metadata": {},
   "outputs": [],
   "source": [
    "# Create the tables with cursor \n",
    "create_list = [table1_query,table2_query,table3_query,table4_query,table5_query,table6_query]\n",
    "for create_query in create_list:\n",
    "    mycursor = myconn.cursor()\n",
    "    mycursor.execute(create_query )\n",
    "    for i in mycursor:\n",
    "        print(i)\n",
    "    mycursor.close()"
   ]
  },
  {
   "cell_type": "code",
   "execution_count": 10,
   "metadata": {},
   "outputs": [],
   "source": [
    "# Creating relations between tables by providing foreign keys and altering the tables according to them \n",
    "alter_on_modeltype = ''' ALTER TABLE model_type\n",
    "                        ADD \n",
    "                        (CONSTRAINT fk_modeltype_color\n",
    "                        FOREIGN KEY (color_id) REFERENCES color(color_id) ,\n",
    "                        CONSTRAINT fk_modeltype_storage\n",
    "                        FOREIGN KEY (storage_id) REFERENCES storage(storage_id))\n",
    "                        '''\n",
    "\n",
    "alter_on_mobilesales = ''' ALTER TABLE mobile_sales\n",
    "                        ADD \n",
    "                        CONSTRAINT fk_mobilesales_modeltype\n",
    "                        FOREIGN KEY (model_type_id) REFERENCES model_type(model_type_id) \n",
    "                        ''' \n",
    "\n",
    "alter_on_modelrating =  ''' ALTER TABLE model_rating\n",
    "                        ADD \n",
    "                        (CONSTRAINT fk_modelrating_modeltype\n",
    "                        FOREIGN KEY (model_type_id) REFERENCES model_type (model_type_id) , \n",
    "                        CONSTRAINT fk_modelrating_rating\n",
    "                        FOREIGN KEY (rating_id)  REFERENCES rating(rating_id))\n",
    "                        '''"
   ]
  },
  {
   "cell_type": "code",
   "execution_count": 11,
   "metadata": {},
   "outputs": [],
   "source": [
    "# Altering some of the mentioned modificatons\n",
    "alter_list = [alter_on_modeltype , alter_on_mobilesales , alter_on_modelrating]\n",
    "for alter_query in alter_list:\n",
    "    mycursor = myconn.cursor()\n",
    "    mycursor.execute(alter_query)\n",
    "    for i in mycursor:\n",
    "        print(i)\n",
    "    mycursor.close()"
   ]
  },
  {
   "cell_type": "code",
   "execution_count": 12,
   "metadata": {},
   "outputs": [
    {
     "name": "stdout",
     "output_type": "stream",
     "text": [
      "('def', 'mobilenewdb', 'fk_mobilesales_modeltype', 'def', 'mobilenewdb', 'PRIMARY', 'NONE', 'NO ACTION', 'NO ACTION', 'mobile_sales', 'model_type')\n",
      "('def', 'mobilenewdb', 'fk_modelrating_modeltype', 'def', 'mobilenewdb', 'PRIMARY', 'NONE', 'NO ACTION', 'NO ACTION', 'model_rating', 'model_type')\n",
      "('def', 'mobilenewdb', 'fk_modelrating_rating', 'def', 'mobilenewdb', 'PRIMARY', 'NONE', 'NO ACTION', 'NO ACTION', 'model_rating', 'rating')\n",
      "('def', 'mobilenewdb', 'fk_modeltype_color', 'def', 'mobilenewdb', 'PRIMARY', 'NONE', 'NO ACTION', 'NO ACTION', 'model_type', 'color')\n",
      "('def', 'mobilenewdb', 'fk_modeltype_storage', 'def', 'mobilenewdb', 'PRIMARY', 'NONE', 'NO ACTION', 'NO ACTION', 'model_type', 'storage')\n"
     ]
    },
    {
     "data": {
      "text/plain": [
       "True"
      ]
     },
     "execution_count": 12,
     "metadata": {},
     "output_type": "execute_result"
    }
   ],
   "source": [
    "# Full description of all the constraints in the schema\n",
    "mycursor = myconn.cursor()\n",
    "mycursor.execute('''select * from \n",
    "                    information_schema.referential_constraints \n",
    "                    where \n",
    "                    constraint_schema = 'mobilenewdb'; ''')\n",
    "result = mycursor.fetchall()\n",
    "for i in result:\n",
    "   print(i)\n",
    "mycursor.close()"
   ]
  },
  {
   "attachments": {},
   "cell_type": "markdown",
   "metadata": {},
   "source": [
    "#### Showing all the tables existing in the mobilenewdb"
   ]
  },
  {
   "cell_type": "code",
   "execution_count": 13,
   "metadata": {},
   "outputs": [
    {
     "name": "stdout",
     "output_type": "stream",
     "text": [
      "('color',)\n",
      "('mobile_sales',)\n",
      "('model_rating',)\n",
      "('model_type',)\n",
      "('rating',)\n",
      "('storage',)\n"
     ]
    },
    {
     "data": {
      "text/plain": [
       "True"
      ]
     },
     "execution_count": 13,
     "metadata": {},
     "output_type": "execute_result"
    }
   ],
   "source": [
    "mycursor = myconn.cursor()\n",
    "mycursor.execute(\"SHOW TABLES\")\n",
    "for i in mycursor:\n",
    "    print(i)\n",
    "mycursor.close()"
   ]
  },
  {
   "cell_type": "code",
   "execution_count": null,
   "metadata": {},
   "outputs": [],
   "source": [
    "#--------------------------------------------------------------------------------------------------------------------------------------------------------"
   ]
  },
  {
   "cell_type": "markdown",
   "metadata": {},
   "source": [
    "#### Inserting the values using INSERT method and retrieving the required data through csv.DictReader function "
   ]
  },
  {
   "cell_type": "code",
   "execution_count": 5,
   "metadata": {},
   "outputs": [
    {
     "name": "stdout",
     "output_type": "stream",
     "text": [
      "[('Moonlight Black', 'black'), ('Mint Cream', 'others'), ('Electric Black', 'black'), ('Deep Blue', 'blue'), ('Black', 'black'), ('Blue', 'blue'), ('Flowing Silver', 'silver'), ('Crystal Blue', 'blue'), ('Ink Black', 'black'), ('Lake Green', 'green'), ('Mystery Black', 'black'), ('Fantastic Purple', 'purple'), ('Matte Black', 'black'), ('Moonlight Gold', 'gold'), ('Aurora', 'others'), ('Stellar Black', 'black'), ('Magic Blue', 'blue'), ('Starry Blue', 'blue'), ('Crystal Black', 'black'), ('Metallic White', 'white'), ('Fantasy White', 'white'), ('Navy Blue', 'blue'), ('Fancy Blue', 'blue'), ('Astral Blue', 'blue'), ('Dynamic Black', 'black'), ('Dynamic Orange', 'orange'), ('Mystery Blue', 'blue'), ('Fairy White', 'white'), ('Fluid Black', 'black'), ('Sky White', 'white'), ('Midnight Black', 'black'), ('Rainbow Silver', 'silver'), ('Auroral Blue', 'blue'), ('Crystal Silver', 'silver'), ('Space Silver', 'silver'), ('Fancy White', 'white'), ('Midnight Blue', 'blue'), ('Glaring Gold', 'gold'), ('Starry Black', 'black'), ('Red', 'red'), ('JET BLACK', 'black'), ('Luminous Black', 'black'), ('Unicorn White', 'white'), ('Prism Black', 'black'), ('Piano Black', 'black'), ('Classic Silver', 'silver'), ('Lightening Black', 'black'), ('Marine Green', 'green'), ('Bordeaux Red', 'red'), ('Galactic Blue', 'blue'), ('Marble Green', 'green'), ('Diamond Blue', 'blue'), ('Silky White', 'white'), ('Starry Night', 'others'), ('Space Purple', 'purple'), ('Dazzling White', 'white'), ('Rose Gold', 'gold'), ('Gold', 'gold'), ('Blazing Blue', 'blue'), ('Purple', 'purple'), ('Champagne', 'others'), ('Aurora Blue', 'blue'), ('Mist Black', 'black'), ('Twilight Black', 'black'), ('Stream White', 'white'), ('Vanilla Mint', 'others'), ('Green', 'green'), ('Grey', 'grey'), ('Sunrise Red', 'red'), ('Twilight Blue', 'blue'), ('Starry Purple', 'purple'), ('Diamond Red', 'red'), ('Glaze Blue', 'blue'), ('Mirror Black', 'black'), ('Jade Black', 'black'), ('White', 'white'), ('Stellar Purple', 'purple'), ('Fluorite Purple', 'purple'), ('Waterfall Grey', 'grey'), ('Aurora Green', 'green'), ('Thunder Black', 'black'), ('Fancy white', 'white'), ('Jewelry White', 'white'), ('Silver', 'silver'), ('Glacier Blue', 'blue'), ('Neon Purple', 'purple'), ('Jet Black', 'black'), ('Majestic Gold', 'gold'), ('Ocean Green', 'green'), ('Ocean Blue', 'blue'), ('Starry purple', 'purple'), ('Amazing Silver', 'silver'), ('Blue MB', 'blue'), ('Quantum Silver', 'silver'), ('Tornado Black', 'black'), (' Tornado Black', 'black'), ('Just Black', 'black'), ('Clearly White', 'white'), ('Not Pink', 'pink'), ('Very Silver', 'silver'), ('Aurora Silver', 'silver'), ('midnight blue', 'blue'), ('Midnight Purple', 'purple'), ('Moroccan Blue', 'blue'), ('Smokey Gray', 'others'), ('Black Blue', 'blue'), ('MAGIC BLUE', 'blue'), ('Thunder Blue', 'blue'), ('Thunder blue', 'blue'), ('Platinum', 'others'), ('Titan', 'others'), ('Silver Titan', 'silver'), ('Platinum Grey', 'grey'), ('Brown', 'brown'), ('Ice', 'others'), ('Black Titan', 'black'), ('AURORA SILVER', 'silver'), ('Aurora Gray', 'others'), ('Laser Blue', 'blue'), ('Black & Blue', 'blue'), ('Black Gold', 'black'), ('Gold & Black', 'black'), ('Illusion Sky', 'others'), ('Carbon', 'others'), ('Genuine Leather Black', 'black'), ('Titan Silver', 'silver'), ('Pink', 'pink'), ('Metallic Gray', 'others'), ('Lavender Violet', 'violet'), ('Genuine Leather Brown', 'brown'), ('Meteor Silver', 'silver'), ('Silver Blue', 'blue'), ('Yellow', 'yellow'), ('Rose Pink', 'pink'), ('Titanium', 'others'), ('Aqua Blue', 'blue'), ('Orange', 'orange'), ('Cool Blue', 'blue'), ('Cool Grey', 'grey'), ('Racing Blue', 'blue'), ('Racing Silver', 'silver'), ('Cross Black', 'black'), ('Cross Blue', 'blue'), ('Watery Grey', 'grey'), ('Watery Blue', 'blue'), ('Universe Blue', 'blue'), ('Universe Purple', 'purple'), ('Laser Black', 'black'), ('Supersonic Black', 'black'), ('Supersonic Blue', 'blue'), ('Infinite Black', 'black'), ('Power Blue', 'blue'), ('Infinite Blue', 'blue'), ('Cyber Silver', 'silver'), ('Cyber Black', 'black'), ('Power Silver', 'silver'), ('Rich Grey', 'grey'), ('Rich Green', 'green'), ('Mist Blue', 'blue'), ('Nebula', 'others'), ('Sword Black', 'black'), ('Blade Silver', 'silver'), ('Frozen Blue', 'blue'), ('Chroma White', 'white'), ('Fusion Green', 'green'), ('Mint Green', 'green'), ('Carbon Black', 'black'), ('Oxygen Blue', 'blue'), ('Oxygen Green', 'green'), ('Sparkling Blue', 'blue'), ('Rust Red', 'red'), ('Arctic White', 'white'), ('Dashing Blue', 'blue'), ('Moss Green', 'green'), ('Crystal Green', 'green'), ('Racing Yellow', 'yellow'), ('Comet Blue', 'blue'), ('Mystic Black', 'black'), ('Diamond Black', 'black'), ('Cosmos Black', 'black'), ('Eclipse Black', 'black'), ('Comet White', 'white'), ('Lunar White', 'white'), ('Pearl White', 'white'), ('Moonlight Silver', 'silver'), ('Space Blue', 'blue'), ('Pearl Green', 'green'), ('Illuminating Yellow', 'yellow'), ('Volcano Grey', 'grey'), ('Blazing Red', 'red'), ('Fusion Blue', 'blue'), ('Mist White', 'white'), ('Sun Kissed Leather', 'others'), ('Black Ninja', 'black'), ('White Knight', 'white'), ('Glory Silver', 'silver'), ('Victory Blue', 'blue'), ('So White', 'white'), ('That Green', 'green'), ('That White', 'white'), ('Lightning Red', 'red'), ('So Blue', 'blue'), ('That Blue', 'blue'), ('Ambitious Black', 'black'), ('Fiery Gold', 'gold'), ('Brave Blue', 'blue'), ('Lightning Blue', 'blue'), ('Solar Red', 'red'), ('Pearl Blue', 'blue'), ('Diamond Sapphire', 'others'), ('Diamond Ruby', 'others'), ('Forest Green', 'green'), ('Lightning Orange', 'orange'), ('Radiant Blue', 'blue'), ('Red Brick', 'red'), ('Concrete', 'others'), ('Garlic', 'others'), ('Onion', 'others'), ('Polar White', 'white'), ('Neptune Blue', 'blue'), ('Super Polar White', 'white'), ('Royal Blue', 'blue'), ('Dark Blue', 'blue'), ('Mocha Gold', 'gold'), ('Black and Gold', 'black'), ('Latte Gold', 'gold'), ('Champagne Gold', 'gold'), ('Polar Gold', 'gold'), ('CHAMPAGNE GOLD', 'gold'), ('Fjord', 'others'), ('Polar Night', 'others'), ('Charcoal Grey', 'grey'), ('Nordic Blue', 'blue'), ('Sand', 'others'), ('Dusk', 'others'), ('Charcoal', 'others'), ('Fjord Blue', 'blue'), ('Dusk Purple', 'purple'), ('Copper', 'others'), ('Grey / Silver', 'grey'), ('Warm Red', 'red'), ('Copper/Black', 'black'), ('Blue & Silver', 'blue'), ('Silver White', 'white'), ('Black&Blue', 'blue'), ('Cyan Green', 'green'), ('Baltic', 'others'), ('Iron', 'others'), ('Steel', 'others'), ('Pewter / White', 'white'), ('Tempered Blue', 'blue'), ('SAND', 'others'), ('CYAN', 'others'), ('CHARCOAL', 'others'), ('Bright Green', 'green'), ('White & Copper', 'white'), ('Pink Sand', 'pink'), ('Polished Copper', 'others'), ('Copper White', 'white'), ('Polished Blue', 'blue'), ('Black & Copper', 'black'), ('Coral', 'others'), ('Pacific Blue', 'blue'), ('Midnight Green', 'green'), ('Graphite', 'others'), ('Space Grey', 'grey'), ('Space Gray', 'others'), ('Denim Blue', 'blue'), ('Denim Black', 'black'), ('Sky Blue', 'blue'), ('Sea Green', 'green'), ('Mirage Blue', 'blue'), ('Celestial Black', 'black'), ('Mint', 'others'), ('Arctic blue', 'blue'), ('Mirage Black', 'black'), ('Space Black', 'black'), ('Cream', 'others'), ('Awesome Black', 'black'), ('Light Blue', 'blue'), ('Prism Crush Blue', 'blue'), ('Phantom Black', 'black'), ('Laser Grey', 'grey'), ('Awesome White', 'white'), ('Laser Green', 'green'), ('Awesome Blue', 'blue'), ('Prism White', 'white'), ('Violet', 'violet'), ('Awesome Violet', 'violet'), ('Mystic Bronze', 'others'), ('Aura Black', 'black'), ('Haze Crush Silver', 'silver'), ('Prism Crush Red', 'red'), ('Iceberg blue', 'blue'), ('Metallic Blue', 'blue'), ('Prism Crush Violet', 'violet'), ('Diamond White', 'white'), ('Mystic Blue', 'blue'), ('Prism Crush Black', 'black'), ('Mystic Green', 'green'), ('Cloud Navy', 'others'), ('Cloud White', 'white'), ('Prism Crush White', 'white'), ('Gradation Blue', 'blue'), ('Prism Dot Black', 'black'), ('Caviar Black', 'black'), ('Cosmic Gray', 'others'), ('Seawater Blue', 'blue'), ('Absolute black', 'black'), ('Ceramic Black', 'black'), ('White Pearl', 'white'), ('Black Sapphire', 'black'), ('Gold Sand', 'gold'), ('Electric Blue', 'blue'), ('Angel Gold', 'gold'), ('Fusion Black', 'black'), ('Shimmery White', 'white'), ('Phantom Gray', 'others'), ('Aura Glow', 'others'), ('Prism Dot Gray', 'others'), ('Cloud Blue', 'blue'), ('Dark Gray', 'others'), ('Phantom Violet', 'violet'), ('Iceberg Blue', 'blue'), ('Stainless Black', 'black'), ('Lemonade Blue', 'blue'), ('black sapphire', 'black'), ('Metallic Copper', 'others'), ('White Frost', 'white'), ('IceBerg Blue', 'blue'), ('Charcoal Black', 'black'), ('Lavender Purple', 'purple'), ('Prism Crush Silver', 'silver'), ('Prism Blue', 'blue'), ('Burgundy Red', 'red'), ('Ghost White', 'white'), ('Cloud Pink', 'pink'), ('Coral Blue', 'blue'), ('Frosted Gold', 'gold'), ('Aura Red', 'red'), ('Phantom White', 'white'), ('Orchid Grey', 'grey'), ('Black Sky', 'black'), ('Pearl white', 'white'), ('Lilac Purple', 'purple'), ('Silver Titanium', 'silver'), ('Deep Black', 'black'), ('Classic White', 'white'), ('Gold Platinum', 'gold'), ('Polaris Blue', 'blue'), ('Copper Gold', 'gold'), ('Sunrise Gold', 'gold'), ('Alpine White', 'white'), ('Chic White', 'white'), ('Blue Coral', 'blue'), ('Aura White', 'white'), ('Quartz Green', 'green'), ('Phantom Silver', 'silver'), ('Pebble Blue', 'blue'), ('Black Onyx', 'black'), ('Cloud Mint', 'others'), ('Wine Red', 'red'), ('Cloud Lavender', 'others'), ('Cloud Red', 'red'), ('Raven Black', 'black'), ('Gradation Black', 'black'), ('Cosmic Black', 'black'), ('Frost White', 'white'), ('Maple Gold', 'gold'), ('Marble White', 'white'), ('Bronze Gold', 'gold'), ('Charcoal Gray', 'others'), ('Ceramic White', 'white'), ('Blossom Pink', 'pink'), ('COCKTAIL ORANGE', 'orange'), ('Titan Gray', 'others'), ('Black Pearl', 'black'), ('Pink Gold', 'gold'), ('Fine Gold', 'gold'), ('Venom Black', 'black'), ('Dark Grey', 'grey'), ('dark gold', 'gold'), ('Black/Tuxedo Black', 'black'), ('Starry Night Black', 'black'), ('Sprite', 'others'), ('GREY/BLACK', 'black'), ('Tahiti Blue', 'blue'), ('Aurora Grey', 'grey'), ('Frosted Champagne', 'others'), ('Dynamic Gray', 'others'), ('Coral Red', 'red'), ('Breeze Blue', 'blue'), ('Frosted Emerald', 'others'), ('Cyber Teal', 'others'), ('Super Black', 'black'), ('Electric Graphite', 'others'), ('Polished Graphite', 'others'), ('Frosted Pearl', 'others'), ('Indigo Black', 'black'), ('Sapphire Gradient', 'others'), ('Dark Pearl', 'others'), ('Volcanic Grey', 'grey'), ('Electric Violet', 'violet'), ('Pastel Sky', 'others'), ('Moonlight White', 'white'), ('Sapphire Blue', 'blue'), ('Misty Blue', 'blue'), ('Frosted Silver', 'silver'), ('Arctic Blue', 'blue'), ('Smoky Sangria', 'others'), ('Ultra Violet', 'violet'), ('Lunar Gray', 'others'), ('Sterling Blue', 'blue'), ('Rich Cranberry', 'others'), ('Oxford Blue', 'blue'), ('Cosmic Blue', 'blue'), ('Bronze Gradient', 'others'), ('Crystal Pink', 'pink'), ('Twilight Orange', 'orange'), ('Caribbean Blue', 'blue'), ('Metallic Sage', 'others'), ('Lunar Grey', 'grey'), ('Black Leather', 'black'), ('Graphite Black', 'black'), ('Steel Blue', 'blue'), ('Power Black', 'black'), ('Mostly Blue', 'blue'), ('Lime Green', 'green'), ('Obsidian Black', 'black'), ('Purist Blue', 'blue'), ('Midday Dream', 'others'), ('Nebula Blue', 'blue'), ('Diamond Glow', 'others'), ('Dawn White', 'white'), ('Diamond Flare', 'others'), ('Olive Black', 'black'), ('Titanium Sapphire', 'others'), ('Slate Gray', 'others'), ('Prism Magic', 'others'), ('Crystal Symphony', 'others'), ('Sunset Jazz', 'others'), ('Gravity Black', 'black'), ('Agate Red', 'red'), ('Deep Sea Blue', 'blue'), ('Sunset Melody', 'others'), ('Sunset Dazzle', 'others'), ('Dusk Blue', 'blue'), ('Fantastic Rainbow', 'others'), ('Emerald Black', 'black'), ('Aquamarine Green', 'green'), ('Midnight Jazz', 'others'), ('Shimmer Blue', 'blue'), ('Coral Green', 'green'), ('Twilight Grey', 'grey'), ('Atlantic Blue', 'blue'), ('Pacific Sunrise', 'others'), ('Lunar Silver', 'silver'), ('Jazz Blue', 'blue'), ('Tuscany Coral', 'others'), ('Vinyl Black', 'black'), ('Celestial Silver', 'silver'), ('LUNAR WHITE', 'white'), ('CELESTIAL SILVER', 'silver'), ('COSMIC BLACK', 'black'), ('Kind of Grey', 'grey'), ('More Than White', 'white'), ('Metallic Grey', 'grey'), ('Lake Blue', 'blue'), ('Matte Gold', 'gold'), ('Onyx Black', 'black'), ('Ruby Red', 'red'), ('Sunset Red', 'red'), ('Midnight Grey', 'grey'), ('Sea Blue', 'blue'), ('Sporty Orange', 'orange'), ('Electric Green', 'green'), ('Fiery Red', 'red'), ('Mighty Black', 'black'), ('Sunrise Flare', 'others'), ('Nature Green', 'green'), ('SeaBlue', 'blue'), ('Flame Red', 'red'), ('Dark Nebula', 'others'), ('Dark Night', 'others'), ('Cosmic Purple', 'purple'), ('MOONLIGHT WHITE', 'white'), ('Nebula Red', 'red'), ('Astro Moonlight White', 'white'), ('Pebble Grey', 'grey'), ('Glacier White', 'white'), ('Bold Red', 'red'), ('Elegant Blue', 'blue'), ('Prime Black', 'black'), ('Brilliant Black', 'black'), ('Sprinkle White', 'white'), ('Carbon Grey', 'grey'), ('Topaz Gold', 'gold'), ('Sunset Blue', 'blue'), ('White Birch', 'white'), ('Blue Lagoon', 'blue'), ('Milkyway Grey', 'grey'), ('Meteor Grey', 'grey'), ('Gold Sepia', 'gold'), ('Gold and Silver', 'gold'), ('Fervor Red', 'red'), ('Santorini White', 'white'), ('Saffron Grey', 'grey'), ('Glossy Black', 'black'), ('Amber Gold', 'gold'), ('White  ', 'white'), ('Gunmetal Grey', 'grey'), ('Grey ', 'grey'), ('Rainbow Blue', 'blue'), ('Predator Black', 'black'), ('Gunmetal Silver', 'silver'), ('Armoured Edition', 'red'), ('Two shades of black', 'black'), ('Green and Greener', 'green'), ('Out of Blue', 'blue'), ('Slate Blue', 'blue'), ('Pitch Black', 'black'), ('Brick Red', 'red'), ('Matrix Purple', 'purple'), ('Pheonix Red', 'red'), ('Rosso Red', 'red'), ('Daybreak Blue', 'blue'), ('Metal Grey', 'grey'), ('Neo Blue', 'blue'), ('Neo Black', 'black'), ('Luna White ', 'white'), ('Voyager Grey', 'grey'), ('Mercury Silver', 'silver'), ('Asteroid Black', 'black'), ('Awesome Mint', 'others'), ('Phantom Green', 'green'), ('Lavender  ', 'others'), ('Matte Aqua', 'others'), ('Sunshine Gold', 'gold'), ('Stardust Black', 'black'), ('Neon Spark', 'others'), ('Enigma Black', 'black'), ('Aurora Dawn', 'others'), ('Alpha Grey', 'grey'), ('Frost Blue', 'blue'), ('Skyline Blue', 'blue'), ('Phantom Purple', 'purple'), ('Sonic Blue', 'blue'), ('Sonic Black', 'black'), ('Nebula Purple', 'purple'), ('Dazzling Gold', 'gold'), ('Pearl Black', 'black'), ('Energetic Blue', 'blue'), ('Celestial Magic', 'others'), ('Stealth Black', 'black'), ('Purple Mist', 'purple'), ('Pacific Pearl', 'others'), ('Camo Green', 'green'), ('Aquamarine Blue', 'blue'), ('Stardust White', 'white'), ('Diamond Dazzle', 'others'), ('Aegean Blue', 'blue'), ('Purple  ', 'purple'), ('Morandi Green', 'green'), ('Polar Black', 'black'), ('Green Wave', 'green'), ('Silver Wave', 'silver'), ('Emerald Green', 'green'), ('Quetzal Cyan', 'others'), ('Ocean Wave', 'others'), ('Celestial Snow', 'others'), ('Symphony Cyan', 'others'), ('Haze Green', 'green'), ('Glacier Green', 'green'), ('Mithril Grey', 'grey'), ('Nordic Secret', 'others'), ('Milan Black', 'black'), ('Sandstone Black', 'black'), ('Ice Blue', 'blue'), ('Sapphire Cyan', 'others'), ('Bordeaux Red ', 'red'), ('Heart of Ocean', 'others'), ('Silver Diamond', 'silver'), ('Topaz Blue', 'blue'), ('Moonlight Jade', 'others'), ('Amber Red', 'red'), ('Aether Black', 'black'), ('Tradew Grey', 'grey'), ('Mocha Brown', 'brown'), ('City Blue', 'blue'), ('Serene Gold', 'gold'), ('Blush Gold', 'gold'), ('Magic Gold', 'gold'), ('Shark Grey', 'grey'), ('Quartz Black', 'black'), ('Charcoal Blue', 'blue'), ('Black Diamond', 'black'), ('Berlin Gray', 'others'), ('Twilight Purple', 'purple'), ('Bolivia Blue', 'blue'), ('Bronze Gold Black', 'black'), ('Startrails Blue', 'blue'), ('Shadow Grey', 'grey'), ('Royal Gold', 'gold'), ('Alpine Green', 'green'), ('Sierra Blue', 'blue'), ('Starlight Black', 'black'), ('Glowing Galaxy', 'others'), ('Meteor Black', 'black'), ('Stargaze White', 'white'), ('Sunrise Blue ', 'blue'), ('Azure Glow', 'others'), ('Starry Glow', 'others'), ('Glowing Green', 'green'), ('Glowing Black', 'black'), ('Blazing Black', 'black'), ('Icy Blue', 'blue'), ('Slate Black', 'black')]\n"
     ]
    },
    {
     "data": {
      "text/plain": [
       "True"
      ]
     },
     "execution_count": 5,
     "metadata": {},
     "output_type": "execute_result"
    }
   ],
   "source": [
    "# Inserting the values into the 'color' table \n",
    "with open('C:\\\\Users\\\\kumar\\\\Downloads\\\\mobile_table_csv\\\\color_csv.csv' , 'r') as f:\n",
    "    reader = csv.DictReader(f)\n",
    "    tuples = [tuple(row.values()) for row in reader]\n",
    "    print(tuples)\n",
    "\n",
    "mycursor =  myconn.cursor()\n",
    "color = '''INSERT INTO mobilenewdb.color\n",
    "                        (color_name, main_color_name)\n",
    "                        VALUES(%s,%s)'''\n",
    "mycursor.executemany(color,tuples)\n",
    "myconn.commit()\n",
    "mycursor.close()"
   ]
  },
  {
   "cell_type": "code",
   "execution_count": 9,
   "metadata": {},
   "outputs": [
    {
     "data": {
      "text/plain": [
       "True"
      ]
     },
     "execution_count": 9,
     "metadata": {},
     "output_type": "execute_result"
    }
   ],
   "source": [
    "# Inserting the values into the 'rating' table \n",
    "with open('C:\\\\Users\\\\kumar\\\\Downloads\\\\mobile_table_csv\\\\rating_csv.csv' , 'r') as f:\n",
    "    reader = csv.DictReader(f)\n",
    "    tuples = [tuple(row.values()) for row in reader]\n",
    "\n",
    "mycursor =  myconn.cursor()\n",
    "rating = '''INSERT INTO mobilenewdb.rating\n",
    "                        (rating_description)\n",
    "                        VALUES(%s)'''\n",
    "mycursor.executemany(rating,tuples)\n",
    "myconn.commit()\n",
    "mycursor.close()"
   ]
  },
  {
   "cell_type": "code",
   "execution_count": 18,
   "metadata": {},
   "outputs": [
    {
     "data": {
      "text/plain": [
       "True"
      ]
     },
     "execution_count": 18,
     "metadata": {},
     "output_type": "execute_result"
    }
   ],
   "source": [
    "# Altering the datatype of column 'ram' in storage table \n",
    "mycursor = myconn.cursor()\n",
    "mycursor.execute(\" ALTER TABLE storage MODIFY ram VARCHAR(10)\")\n",
    "for i in mycursor:\n",
    "    print(i)\n",
    "mycursor.close()"
   ]
  },
  {
   "cell_type": "code",
   "execution_count": 19,
   "metadata": {},
   "outputs": [
    {
     "data": {
      "text/plain": [
       "True"
      ]
     },
     "execution_count": 19,
     "metadata": {},
     "output_type": "execute_result"
    }
   ],
   "source": [
    "# Altering the datatype of column 'rom' in storage table \n",
    "mycursor = myconn.cursor()\n",
    "mycursor.execute(\" ALTER TABLE storage MODIFY rom VARCHAR(10)\")\n",
    "for i in mycursor:\n",
    "    print(i)\n",
    "mycursor.close()"
   ]
  },
  {
   "cell_type": "code",
   "execution_count": 20,
   "metadata": {},
   "outputs": [
    {
     "data": {
      "text/plain": [
       "True"
      ]
     },
     "execution_count": 20,
     "metadata": {},
     "output_type": "execute_result"
    }
   ],
   "source": [
    "# Inserting the values into the 'storage' table \n",
    "with open('C:\\\\Users\\\\kumar\\\\Downloads\\\\mobile_table_csv\\\\storage_csv.csv' , 'r') as f:\n",
    "    reader = csv.DictReader(f)\n",
    "    tuples = [tuple(row.values()) for row in reader]\n",
    "\n",
    "mycursor =  myconn.cursor()\n",
    "storage = '''INSERT INTO mobilenewdb.storage\n",
    "                        (ram,rom)\n",
    "                        VALUES(%s,%s)'''\n",
    "mycursor.executemany(storage,tuples)\n",
    "myconn.commit()\n",
    "mycursor.close()"
   ]
  },
  {
   "cell_type": "code",
   "execution_count": 21,
   "metadata": {},
   "outputs": [
    {
     "data": {
      "text/plain": [
       "True"
      ]
     },
     "execution_count": 21,
     "metadata": {},
     "output_type": "execute_result"
    }
   ],
   "source": [
    "# Inserting the values into the 'model_type' table \n",
    "with open('C:\\\\Users\\\\kumar\\\\Downloads\\\\mobile_table_csv\\\\model_type_csv.csv' , 'r') as f:\n",
    "    reader = csv.DictReader(f)\n",
    "    tuples = [tuple(row.values()) for row in reader]\n",
    "\n",
    "mycursor =  myconn.cursor()\n",
    "model_type = '''INSERT INTO mobilenewdb.model_type\n",
    "                        (brand_name,model_name,color_id,storage_id)\n",
    "                        VALUES(%s,%s,%s,%s)'''\n",
    "mycursor.executemany(model_type,tuples)\n",
    "myconn.commit()\n",
    "mycursor.close()"
   ]
  },
  {
   "cell_type": "code",
   "execution_count": 23,
   "metadata": {},
   "outputs": [
    {
     "data": {
      "text/plain": [
       "True"
      ]
     },
     "execution_count": 23,
     "metadata": {},
     "output_type": "execute_result"
    }
   ],
   "source": [
    "# Inserting the values into the 'model_rating' table \n",
    "with open('C:\\\\Users\\\\kumar\\\\Downloads\\\\mobile_table_csv\\\\model_rating_csv.csv' , 'r') as f:\n",
    "    reader = csv.DictReader(f)\n",
    "    tuples = [tuple(row.values()) for row in reader]\n",
    "\n",
    "mycursor =  myconn.cursor()\n",
    "model_rating = '''INSERT INTO mobilenewdb.model_rating\n",
    "                        (model_type_id,rating,rating_id)\n",
    "                        VALUES(%s,%s,%s)'''\n",
    "mycursor.executemany(model_rating,tuples)\n",
    "myconn.commit()\n",
    "mycursor.close()"
   ]
  },
  {
   "cell_type": "code",
   "execution_count": 24,
   "metadata": {},
   "outputs": [
    {
     "data": {
      "text/plain": [
       "True"
      ]
     },
     "execution_count": 24,
     "metadata": {},
     "output_type": "execute_result"
    }
   ],
   "source": [
    "# Inserting the values into the 'mobile_sales' table \n",
    "with open('C:\\\\Users\\\\kumar\\\\Downloads\\\\mobile_table_csv\\\\mobile_sales_csv.csv' , 'r') as f:\n",
    "    reader = csv.DictReader(f)\n",
    "    tuples = [tuple(row.values()) for row in reader]\n",
    "\n",
    "mycursor =  myconn.cursor()\n",
    "mobile_sales = '''INSERT INTO mobilenewdb.mobile_sales\n",
    "                        (model_type_id,total_sales,original_price,selling_price)\n",
    "                        VALUES(%s,%s,%s,%s)'''\n",
    "mycursor.executemany(mobile_sales,tuples)\n",
    "myconn.commit()\n",
    "mycursor.close()"
   ]
  }
 ],
 "metadata": {
  "kernelspec": {
   "display_name": "Python 3",
   "language": "python",
   "name": "python3"
  },
  "language_info": {
   "codemirror_mode": {
    "name": "ipython",
    "version": 3
   },
   "file_extension": ".py",
   "mimetype": "text/x-python",
   "name": "python",
   "nbconvert_exporter": "python",
   "pygments_lexer": "ipython3",
   "version": "3.11.0"
  },
  "orig_nbformat": 4,
  "vscode": {
   "interpreter": {
    "hash": "41cec28fd681075328d5c3ce57c3e36d2e28950cd4b5df3e126fcfc4cca87be8"
   }
  }
 },
 "nbformat": 4,
 "nbformat_minor": 2
}
